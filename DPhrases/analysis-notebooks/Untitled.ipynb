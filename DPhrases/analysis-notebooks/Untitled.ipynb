{
 "cells": [
  {
   "cell_type": "code",
   "execution_count": 1,
   "id": "30bf23e7",
   "metadata": {},
   "outputs": [],
   "source": [
    "import json\n",
    "import numpy as np\n",
    "import string\n",
    "import re\n",
    "\n",
    "def normalize_answer(s):\n",
    "\n",
    "    def remove_articles(text):\n",
    "        return re.sub(r'\\b(a|an|the)\\b', ' ', text)\n",
    "\n",
    "    def white_space_fix(text):\n",
    "        return ' '.join(text.split())\n",
    "\n",
    "    def remove_punc(text):\n",
    "        exclude = set(string.punctuation)\n",
    "        return ''.join(ch for ch in text if ch not in exclude)\n",
    "\n",
    "    def lower(text):\n",
    "        return text.lower()\n",
    "\n",
    "    return white_space_fix(remove_articles(remove_punc(lower(s))))"
   ]
  },
  {
   "cell_type": "code",
   "execution_count": 15,
   "id": "a4698feb",
   "metadata": {},
   "outputs": [
    {
     "name": "stdout",
     "output_type": "stream",
     "text": [
      "hotpot_dev_firsthop_6947_top10.pred\r\n",
      "hotpot_dev_firsthop_6947_top10_agg.pred\r\n",
      "hotpot_train_dev_firsthop_6700_top10_joint_ep1.pred\r\n",
      "hotpot_train_dev_firsthop_6700_top10_joint_ep1_agg.pred\r\n",
      "hotpot_train_dev_firsthop_6700_top10_joint_ep2.pred\r\n",
      "hotpot_train_dev_firsthop_6700_top10_joint_ep2_agg.pred\r\n",
      "hotpot_train_dev_firsthop_6700_top10_joint_ep3.pred\r\n",
      "hotpot_train_dev_firsthop_6700_top10_joint_ep3_agg.pred\r\n",
      "hotpot_train_dev_firsthop_6700_top10_joint_ep4.pred\r\n",
      "hotpot_train_dev_firsthop_6700_top10_joint_ep4_agg.pred\r\n",
      "hotpot_train_dev_firsthop_6700_top10_joint_ep5.pred\r\n",
      "hotpot_train_dev_firsthop_6700_top10_joint_ep5_agg.pred\r\n"
     ]
    }
   ],
   "source": [
    "!ls ../outputs/joint_training_smidx/1651263622/pred"
   ]
  },
  {
   "cell_type": "code",
   "execution_count": 16,
   "id": "102c614a",
   "metadata": {},
   "outputs": [
    {
     "name": "stdout",
     "output_type": "stream",
     "text": [
      "{\r\n",
      "  \"total\": 6700,\r\n",
      "  \"em_top1\": 17.0,\r\n",
      "  \"f1_score_top1\": 22.998906757901313,\r\n",
      "  \"em_top10\": 36.3134328358209,\r\n",
      "  \"f1_score_top10\": 46.16415724310806,\r\n",
      "  \"redundancy of top10\": 1.0\r\n",
      "}"
     ]
    }
   ],
   "source": [
    "!cat ../outputs/joint_training_smidx/1651263622/pred/hotpot_train_dev_firsthop_6700_top10_joint_ep2_agg.pred"
   ]
  },
  {
   "cell_type": "code",
   "execution_count": 19,
   "id": "8ed520b1",
   "metadata": {},
   "outputs": [],
   "source": [
    "fp = \"../outputs/joint_training_smidx/1651263622/pred/hotpot_train_dev_firsthop_6700_top10_joint_ep2.pred\"\n",
    "with open(fp, 'r') as fh:\n",
    "    obj = json.load(fh)"
   ]
  },
  {
   "cell_type": "code",
   "execution_count": 20,
   "id": "ea7a7733",
   "metadata": {},
   "outputs": [
    {
     "name": "stdout",
     "output_type": "stream",
     "text": [
      "Failed cases: F1@1=22.998906757901317, F1@10=46.164157243108065\n"
     ]
    }
   ],
   "source": [
    "f1_1, f1_10 = 0., 0.\n",
    "for i, (qid,pred) in enumerate(obj.items()):\n",
    "    f1_1 += pred['f1_top1']\n",
    "    f1_10 += pred['f1_top10']\n",
    "f1_1 /= len(obj)\n",
    "f1_10 /= len(obj)\n",
    "\n",
    "print(f\"Failed cases: F1@1={f1_1*100}, F1@10={f1_10*100}\")"
   ]
  },
  {
   "cell_type": "code",
   "execution_count": 6,
   "id": "c1c53192",
   "metadata": {},
   "outputs": [
    {
     "data": {
      "text/plain": [
       "{'question': 'What respective fields did Charley Armey and Dick Armey become renowned in',\n",
       " 'answer': ['American politician'],\n",
       " 'title': 'Dick Armey',\n",
       " 'pred_phrase': ['football',\n",
       "  'football, like many other sports, there are many',\n",
       "  'football',\n",
       "  'football',\n",
       "  'football',\n",
       "  'football',\n",
       "  'football',\n",
       "  'football',\n",
       "  'football',\n",
       "  'football'],\n",
       " 'pred_title': ['Coach (sport)',\n",
       "  'Coach (sport)',\n",
       "  'Coach (sport)',\n",
       "  'Larry Pasquale',\n",
       "  'Weeb Ewbank',\n",
       "  'Frank Rose (academic)',\n",
       "  'John Holecek',\n",
       "  'Walter Camp',\n",
       "  'Terry Malley',\n",
       "  'Monte Kiffin'],\n",
       " 'pred_evidence': ['American football includes a head coach, an assistant head coach, an offensive coordinator, a defensive coordinator, a special teams coordinator, offensive and defensive line coaches, coaches for every position, and a strength and conditioning coach, among other positions.',\n",
       "  'In American football, like many other sports, there are many coaches and assistant coaches.',\n",
       "  'In American football, like many other sports, there are many coaches and assistant coaches.',\n",
       "  'Larry Pasquale (born April 21, 1941) is a former American and Canadian football coach, and sports broadcaster.',\n",
       "  'Often referred to as \"The Greatest Game Ever Played\", the championship was watched by a large national audience on television and helped make football into the most popular sport in the U.S. Ewbank was named coach of the year by the Associated Press and \"United Press International\" after the season.',\n",
       "  'Rose was also the president who hired Paul W. \"Bear\" Bryant, one of the most successful and famous college football coaches in American history.',\n",
       "  'The award honors the nation’s top high school football coach for exceptional coaching abilities and leadership skills, as well as acknowledging his role as a positive influence to young Americans on and off the field.',\n",
       "  'Walter Chauncey Camp (April 7, 1859 – March 14, 1925) was an American football player, coach, and sports writer known as the \"Father of American Football\".',\n",
       "  'Terence Patrick Malley (born August 6, 1954) is an American football coach.',\n",
       "  \"Kiffin's sons are both football coaches.\"],\n",
       " 'score': [97.83634948730469,\n",
       "  97.78994750976562,\n",
       "  97.30520629882812,\n",
       "  96.3083267211914,\n",
       "  96.0543212890625,\n",
       "  95.633544921875,\n",
       "  95.4345474243164,\n",
       "  95.40129089355469,\n",
       "  95.32952880859375,\n",
       "  95.19267272949219],\n",
       " 'substr_top1': False,\n",
       " 'substr_top10': False,\n",
       " 'f1_top1': 0,\n",
       " 'f1_top10': 0,\n",
       " 'evid_em_top1': False,\n",
       " 'evid_em_top10': False,\n",
       " 'evid_f1_top1': 0.058823529411764705,\n",
       " 'evid_f1_top10': 0.15384615384615385,\n",
       " 'phr_substr_evid_f1_top1': 0.0,\n",
       " 'phr_substr_evid_f1_top10': 0.0}"
      ]
     },
     "execution_count": 6,
     "metadata": {},
     "output_type": "execute_result"
    }
   ],
   "source": [
    "pred"
   ]
  },
  {
   "cell_type": "code",
   "execution_count": null,
   "id": "b2944ad5",
   "metadata": {},
   "outputs": [],
   "source": []
  }
 ],
 "metadata": {
  "kernelspec": {
   "display_name": "Python 3 (ipykernel)",
   "language": "python",
   "name": "python3"
  },
  "language_info": {
   "codemirror_mode": {
    "name": "ipython",
    "version": 3
   },
   "file_extension": ".py",
   "mimetype": "text/x-python",
   "name": "python",
   "nbconvert_exporter": "python",
   "pygments_lexer": "ipython3",
   "version": "3.7.11"
  }
 },
 "nbformat": 4,
 "nbformat_minor": 5
}

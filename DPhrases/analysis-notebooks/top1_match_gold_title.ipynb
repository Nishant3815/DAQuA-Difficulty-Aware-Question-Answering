{
 "cells": [
  {
   "cell_type": "code",
   "execution_count": 52,
   "id": "27d7408f",
   "metadata": {},
   "outputs": [],
   "source": [
    "import json\n",
    "import numpy as np\n",
    "import string\n",
    "import re\n",
    "\n",
    "def normalize_answer(s):\n",
    "\n",
    "    def remove_articles(text):\n",
    "        return re.sub(r'\\b(a|an|the)\\b', ' ', text)\n",
    "\n",
    "    def white_space_fix(text):\n",
    "        return ' '.join(text.split())\n",
    "\n",
    "    def remove_punc(text):\n",
    "        exclude = set(string.punctuation)\n",
    "        return ''.join(ch for ch in text if ch not in exclude)\n",
    "\n",
    "    def lower(text):\n",
    "        return text.lower()\n",
    "\n",
    "    return white_space_fix(remove_articles(remove_punc(lower(s))))"
   ]
  },
  {
   "cell_type": "code",
   "execution_count": 16,
   "id": "97780b0d",
   "metadata": {},
   "outputs": [
    {
     "name": "stdout",
     "output_type": "stream",
     "text": [
      "hotpot_train_dev_firsthop_6700_top10_joint_ep1_agg.pred\r\n",
      "hotpot_train_dev_firsthop_6700_top10_joint_ep1_hit0.pred\r\n",
      "hotpot_train_dev_firsthop_6700_top10_joint_ep1_hit1.pred\r\n",
      "hotpot_train_dev_firsthop_6700_top10_joint_ep1_hit10.pred\r\n",
      "hotpot_train_dev_firsthop_6700_top10_joint_ep2_agg.pred\r\n",
      "hotpot_train_dev_firsthop_6700_top10_joint_ep2_hit0.pred\r\n",
      "hotpot_train_dev_firsthop_6700_top10_joint_ep2_hit1.pred\r\n",
      "hotpot_train_dev_firsthop_6700_top10_joint_ep2_hit10.pred\r\n",
      "hotpot_train_dev_firsthop_6700_top10_joint_ep3_agg.pred\r\n",
      "hotpot_train_dev_firsthop_6700_top10_joint_ep3_hit0.pred\r\n",
      "hotpot_train_dev_firsthop_6700_top10_joint_ep3_hit1.pred\r\n",
      "hotpot_train_dev_firsthop_6700_top10_joint_ep3_hit10.pred\r\n"
     ]
    }
   ],
   "source": [
    "!ls ../outputs/joint_training_smidx/1651737384/pred"
   ]
  },
  {
   "cell_type": "code",
   "execution_count": 76,
   "id": "d74a292d",
   "metadata": {},
   "outputs": [
    {
     "name": "stdout",
     "output_type": "stream",
     "text": [
      "{\r\n",
      "  \"total\": 7186,\r\n",
      "  \"substr_top1\": 38.42193153353743,\r\n",
      "  \"f1_score_top1\": 39.44976244029966,\r\n",
      "  \"substr_top10\": 58.07124965210131,\r\n",
      "  \"f1_score_top10\": 58.30918405125197,\r\n",
      "  \"redundancy of top10\": 3.0065404954077373,\r\n",
      "  \"evid_em_top1\": 0.0,\r\n",
      "  \"evid_f1_score_top1\": 9.597055256302532,\r\n",
      "  \"evid_em_top10\": 0.0,\r\n",
      "  \"evid_f1_score_top10\": 16.523153677930868,\r\n",
      "  \"phr_substr_evid_f1_top1\": 7.423240641222113,\r\n",
      "  \"total_phr_substr_evid_f1_top10\": 13.650680009291726\r\n",
      "}"
     ]
    }
   ],
   "source": [
    "!cat ../outputs/gold_eval_smidx/1651841673/pred/hotpot_train_dev_firsthop_7186_top10_agg.pred"
   ]
  },
  {
   "cell_type": "code",
   "execution_count": 77,
   "id": "466377f1",
   "metadata": {},
   "outputs": [],
   "source": [
    "# fp = \"../outputs/joint_training_smidx/1651263622/pred/hotpot_train_dev_firsthop_6700_top10_joint_ep5.pred\"\n",
    "fp = \"../outputs/gold_eval_smidx/1651844257/pred/hotpot_train_dev_firsthop_6700_top10_hit1.pred\"\n",
    "with open(fp, 'r') as fh:\n",
    "    obj = json.load(fh)"
   ]
  },
  {
   "cell_type": "code",
   "execution_count": 78,
   "id": "e297be62",
   "metadata": {
    "scrolled": true
   },
   "outputs": [
    {
     "name": "stdout",
     "output_type": "stream",
     "text": [
      "predicted_title different from gold_title: 0.6140583554376657 (2262)\n"
     ]
    }
   ],
   "source": [
    "count = 0\n",
    "for i, (qid,pred) in enumerate(obj.items()):\n",
    "    if pred['title'].lower() == pred['pred_title'][0].lower():\n",
    "        count += 1\n",
    "print(f\"predicted_title different from gold_title: {1- count/len(obj)}\", f\"({len(obj)})\")"
   ]
  },
  {
   "cell_type": "code",
   "execution_count": 79,
   "id": "4fc9613f",
   "metadata": {},
   "outputs": [
    {
     "name": "stdout",
     "output_type": "stream",
     "text": [
      "TOP-10: predicted_title different from gold_title: 0.6051779935275081 (1236)\n"
     ]
    }
   ],
   "source": [
    "fp = \"../outputs/gold_eval_smidx/1651844257/pred/hotpot_train_dev_firsthop_6700_top10_hit10.pred\"\n",
    "with open(fp, 'r') as fh:\n",
    "    obj2 = json.load(fh)\n",
    "count2 = 0\n",
    "for i, (qid,pred) in enumerate(obj2.items()):\n",
    "    norm_ans = normalize_answer(pred['answer'][0])\n",
    "    norm_pred_phrases = list(map(normalize_answer, pred['pred_phrase']))\n",
    "    for j, pp in enumerate(norm_pred_phrases):\n",
    "        if pp == norm_ans:\n",
    "            if pred['pred_title'][j] == pred['title']:\n",
    "                count2 += 1\n",
    "print(f\"TOP-10: predicted_title different from gold_title: {1 - count2/len(obj2)}\", f\"({len(obj2)})\")"
   ]
  },
  {
   "cell_type": "code",
   "execution_count": null,
   "id": "e96cf4d1",
   "metadata": {},
   "outputs": [],
   "source": []
  }
 ],
 "metadata": {
  "kernelspec": {
   "display_name": "Python 3 (ipykernel)",
   "language": "python",
   "name": "python3"
  },
  "language_info": {
   "codemirror_mode": {
    "name": "ipython",
    "version": 3
   },
   "file_extension": ".py",
   "mimetype": "text/x-python",
   "name": "python",
   "nbconvert_exporter": "python",
   "pygments_lexer": "ipython3",
   "version": "3.7.11"
  }
 },
 "nbformat": 4,
 "nbformat_minor": 5
}

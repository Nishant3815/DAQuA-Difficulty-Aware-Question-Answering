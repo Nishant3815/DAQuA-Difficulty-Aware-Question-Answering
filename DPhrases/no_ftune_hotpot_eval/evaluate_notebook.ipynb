{
 "cells": [
  {
   "cell_type": "code",
   "execution_count": 1,
   "id": "040c64c5",
   "metadata": {},
   "outputs": [],
   "source": [
    "from evaluate import *\n",
    "\n",
    "# for auto-reloading external modules\n",
    "# see http://stackoverflow.com/questions/1907993/autoreload-of-modules-in-ipython\n",
    "%load_ext autoreload\n",
    "%autoreload 2"
   ]
  },
  {
   "cell_type": "code",
   "execution_count": 15,
   "id": "134ae992",
   "metadata": {},
   "outputs": [],
   "source": [
    "def compare_wrapper(fp1, fp2, unique=True, write=True, union_gold=False):\n",
    "    \"\"\"\n",
    "    Compare 2 prediction files\n",
    "    \"\"\"\n",
    "\n",
    "    # Read data from disk\n",
    "    print(f\"Reading predictions from {fp1}\")\n",
    "    results1 = read_results(FILE1)\n",
    "    print(f\"Reading predictions from {fp2}\")\n",
    "    results2 = read_results(FILE2)\n",
    "\n",
    "    OUTPUT_PATH = fp1.replace(\".json\", f\"_{fp2.replace('.json', '_eval.json')}\")\n",
    "\n",
    "    # Compute metrics\n",
    "    eval_results = compare_predictions(results1, results2, unique=unique, union_gold=union_gold)\n",
    "\n",
    "    if write:\n",
    "        # Write results to disk\n",
    "        write_eval_results(OUTPUT_PATH, eval_results)\n",
    "        print(f\"\\nSaved results at {OUTPUT_PATH}\\n\")"
   ]
  },
  {
   "cell_type": "code",
   "execution_count": 24,
   "id": "160d3fc3",
   "metadata": {
    "scrolled": true
   },
   "outputs": [
    {
     "name": "stdout",
     "output_type": "stream",
     "text": [
      "Reading predictions from ./singlehop_1648033166.json\n",
      "{\n",
      "  \"n_questions\": 5918,\n",
      "  \"em\": 17.27,\n",
      "  \"substr_gp\": 22.05,\n",
      "  \"substr_pg\": 25.18,\n",
      "  \"substr2\": 29.4,\n",
      "  \"overlap\": 32.45,\n",
      "  \"overall_avg\": 25.27\n",
      "}\n",
      "\n",
      "Saved results at ./singlehop_1648033166_eval.json\n",
      "\n",
      "Reading predictions from ./singlehop_1648036353.json\n",
      "{\n",
      "  \"n_questions\": 5918,\n",
      "  \"em\": 20.95,\n",
      "  \"substr_gp\": 25.8,\n",
      "  \"substr_pg\": 30.36,\n",
      "  \"substr2\": 34.52,\n",
      "  \"overlap\": 38.33,\n",
      "  \"overall_avg\": 29.99\n",
      "}\n",
      "\n",
      "Saved results at ./singlehop_1648036353_eval.json\n",
      "\n",
      "Reading predictions from ./singlehop_1648041365.json\n",
      "{\n",
      "  \"n_questions\": 5918,\n",
      "  \"em\": 30.52,\n",
      "  \"substr_gp\": 35.96,\n",
      "  \"substr_pg\": 45.2,\n",
      "  \"substr2\": 49.48,\n",
      "  \"overlap\": 53.44,\n",
      "  \"overall_avg\": 42.92\n",
      "}\n",
      "\n",
      "Saved results at ./singlehop_1648041365_eval.json\n",
      "\n",
      "Reading predictions from ./singlehop_1648136621.json\n",
      "{\n",
      "  \"n_questions\": 5918,\n",
      "  \"em\": 17.3,\n",
      "  \"substr_gp\": 22.02,\n",
      "  \"substr_pg\": 25.14,\n",
      "  \"substr2\": 29.27,\n",
      "  \"overlap\": 32.4,\n",
      "  \"overall_avg\": 25.23\n",
      "}\n",
      "\n",
      "Saved results at ./singlehop_1648136621_eval.json\n",
      "\n"
     ]
    }
   ],
   "source": [
    "# Read prediction files and run evaluation\n",
    "import glob\n",
    "\n",
    "MODE = \"single\"  # single / multi\n",
    "\n",
    "PATH_PREFIX = {\n",
    "    \"single\": \"singlehop\",\n",
    "    \"multi\": \"predictions\",\n",
    "}\n",
    "\n",
    "for fp in glob.glob(f'./{PATH_PREFIX[MODE]}_*'):\n",
    "    if \"meta\" in fp or \"eval\" in fp:\n",
    "        continue\n",
    "    \n",
    "    # Read data from disk\n",
    "    print(f\"Reading predictions from {fp}\")\n",
    "    results = read_results(fp)\n",
    "    OUTPUT_PATH = fp.replace(\".json\", \"_eval.json\")\n",
    "\n",
    "    # Compute metrics\n",
    "    eval_results = compute_metrics(results)\n",
    "    \n",
    "    # Write results to disk\n",
    "    write_eval_results(OUTPUT_PATH, eval_results)\n",
    "    print(f\"\\nSaved results at {OUTPUT_PATH}\\n\")"
   ]
  },
  {
   "cell_type": "code",
   "execution_count": 19,
   "id": "b59fae2b",
   "metadata": {},
   "outputs": [
    {
     "name": "stdout",
     "output_type": "stream",
     "text": [
      "./predictions_1648115963.json\n",
      "./predictions_1648115963_eval.json\n",
      "./predictions_1648115963_meta.json\n",
      "./singlehop_1648033166.json\n",
      "./singlehop_1648033166_eval.json\n",
      "./singlehop_1648033166_meta.json\n",
      "./singlehop_1648036353.json\n",
      "./singlehop_1648036353_eval.json\n",
      "./singlehop_1648036353_meta.json\n",
      "./singlehop_1648036353_predictions_1648115963_eval.json\n",
      "./singlehop_1648041365.json\n",
      "./singlehop_1648041365_eval.json\n",
      "./singlehop_1648041365_meta.json\n"
     ]
    }
   ],
   "source": [
    "for fp in glob.glob('./*.json'):\n",
    "    print(fp)"
   ]
  },
  {
   "cell_type": "code",
   "execution_count": 21,
   "id": "63fb7616",
   "metadata": {},
   "outputs": [
    {
     "name": "stdout",
     "output_type": "stream",
     "text": [
      "Reading predictions from singlehop_1648036353.json\n",
      "Reading predictions from predictions_1648127590.json\n",
      "{\n",
      "  \"n_questions\": 5918,\n",
      "  \"em\": 41.33,\n",
      "  \"substr_gp\": 45.5,\n",
      "  \"substr_pg\": 47.26,\n",
      "  \"substr2\": 51.07,\n",
      "  \"overlap\": 52.05,\n",
      "  \"overall_avg\": 47.44199999999999\n",
      "}\n",
      "\n",
      "Saved results at singlehop_1648036353_predictions_1648127590_eval.json\n",
      "\n"
     ]
    }
   ],
   "source": [
    "FILE1 = \"singlehop_1648036353.json\"\n",
    "FILE2 = \"predictions_1648127590.json\"\n",
    "compare_wrapper(FILE1, FILE2)"
   ]
  },
  {
   "cell_type": "code",
   "execution_count": 22,
   "id": "902ff83c",
   "metadata": {},
   "outputs": [
    {
     "name": "stdout",
     "output_type": "stream",
     "text": [
      "Reading predictions from singlehop_1648036353.json\n",
      "Reading predictions from predictions_1648127590.json\n",
      "{\n",
      "  \"n_questions\": 5918,\n",
      "  \"em\": 25.35,\n",
      "  \"substr_gp\": 30.75,\n",
      "  \"substr_pg\": 37.01,\n",
      "  \"substr2\": 41.26,\n",
      "  \"overlap\": 44.61,\n",
      "  \"overall_avg\": 35.79600000000001\n",
      "}\n",
      "\n",
      "Saved results at singlehop_1648036353_predictions_1648127590_eval.json\n",
      "\n"
     ]
    }
   ],
   "source": [
    "FILE1 = \"singlehop_1648036353.json\"\n",
    "FILE2 = \"predictions_1648127590.json\"\n",
    "compare_wrapper(FILE1, FILE2, union_gold=True)"
   ]
  },
  {
   "cell_type": "code",
   "execution_count": null,
   "id": "2fa05844",
   "metadata": {},
   "outputs": [],
   "source": []
  }
 ],
 "metadata": {
  "kernelspec": {
   "display_name": "Python 3 (ipykernel)",
   "language": "python",
   "name": "python3"
  },
  "language_info": {
   "codemirror_mode": {
    "name": "ipython",
    "version": 3
   },
   "file_extension": ".py",
   "mimetype": "text/x-python",
   "name": "python",
   "nbconvert_exporter": "python",
   "pygments_lexer": "ipython3",
   "version": "3.7.11"
  }
 },
 "nbformat": 4,
 "nbformat_minor": 5
}

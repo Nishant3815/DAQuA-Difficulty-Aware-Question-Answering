{
 "cells": [
  {
   "cell_type": "code",
   "execution_count": 1,
   "id": "040c64c5",
   "metadata": {},
   "outputs": [],
   "source": [
    "from evaluate import *\n",
    "\n",
    "# for auto-reloading external modules\n",
    "# see http://stackoverflow.com/questions/1907993/autoreload-of-modules-in-ipython\n",
    "%load_ext autoreload\n",
    "%autoreload 2"
   ]
  },
  {
   "cell_type": "code",
   "execution_count": 2,
   "id": "134ae992",
   "metadata": {},
   "outputs": [],
   "source": [
    "def compare_wrapper(fp1, fp2, unique=True, write=True, union_gold=False):\n",
    "    \"\"\"\n",
    "    Compare 2 prediction files\n",
    "    \"\"\"\n",
    "\n",
    "    # Read data from disk\n",
    "    print(f\"Reading predictions from {fp1}\")\n",
    "    results1 = read_results(FILE1)\n",
    "    print(f\"Reading predictions from {fp2}\")\n",
    "    results2 = read_results(FILE2)\n",
    "\n",
    "    OUTPUT_PATH = fp1.replace(\".json\", f\"_{fp2.replace('.json', '_eval.json')}\")\n",
    "\n",
    "    # Compute metrics\n",
    "    eval_results = compare_predictions(results1, results2, unique=unique, union_gold=union_gold)\n",
    "\n",
    "    if write:\n",
    "        # Write results to disk\n",
    "        write_eval_results(OUTPUT_PATH, eval_results)\n",
    "        print(f\"\\nSaved results at {OUTPUT_PATH}\\n\")"
   ]
  },
  {
   "cell_type": "code",
   "execution_count": 3,
   "id": "160d3fc3",
   "metadata": {},
   "outputs": [
    {
     "name": "stdout",
     "output_type": "stream",
     "text": [
      "Reading predictions from ./singlehop_1648033166.json\n",
      "{\n",
      "  \"n_questions\": 5918,\n",
      "  \"em\": 17.27,\n",
      "  \"substr_gp\": 22.05,\n",
      "  \"substr_pg\": 25.18,\n",
      "  \"substr2\": 29.4,\n",
      "  \"overlap\": 32.45\n",
      "}\n",
      "\n",
      "Saved results at ./singlehop_1648033166_eval.json\n",
      "\n",
      "Reading predictions from ./singlehop_1648036353.json\n",
      "{\n",
      "  \"n_questions\": 5918,\n",
      "  \"em\": 20.95,\n",
      "  \"substr_gp\": 25.8,\n",
      "  \"substr_pg\": 30.36,\n",
      "  \"substr2\": 34.52,\n",
      "  \"overlap\": 38.33\n",
      "}\n",
      "\n",
      "Saved results at ./singlehop_1648036353_eval.json\n",
      "\n",
      "Reading predictions from ./singlehop_1648041365.json\n",
      "{\n",
      "  \"n_questions\": 5918,\n",
      "  \"em\": 30.52,\n",
      "  \"substr_gp\": 35.96,\n",
      "  \"substr_pg\": 45.2,\n",
      "  \"substr2\": 49.48,\n",
      "  \"overlap\": 53.44\n",
      "}\n",
      "\n",
      "Saved results at ./singlehop_1648041365_eval.json\n",
      "\n"
     ]
    }
   ],
   "source": [
    "# Read prediction files and run evaluation\n",
    "import glob\n",
    "\n",
    "MODE = \"single\"  # single / multi\n",
    "\n",
    "PATH_PREFIX = {\n",
    "    \"single\": \"singlehop\",\n",
    "    \"multi\": \"predictions\",\n",
    "}\n",
    "\n",
    "for fp in glob.glob(f'./{PATH_PREFIX[MODE]}_*'):\n",
    "    if \"meta\" in fp or \"eval\" in fp:\n",
    "        continue\n",
    "    \n",
    "    # Read data from disk\n",
    "    print(f\"Reading predictions from {fp}\")\n",
    "    results = read_results(fp)\n",
    "    OUTPUT_PATH = fp.replace(\".json\", \"_eval.json\")\n",
    "\n",
    "    # Compute metrics\n",
    "    eval_results = compute_metrics(results)\n",
    "    \n",
    "    # Write results to disk\n",
    "    write_eval_results(OUTPUT_PATH, eval_results)\n",
    "    print(f\"\\nSaved results at {OUTPUT_PATH}\\n\")"
   ]
  },
  {
   "cell_type": "code",
   "execution_count": 9,
   "id": "8f892f37",
   "metadata": {},
   "outputs": [
    {
     "name": "stdout",
     "output_type": "stream",
     "text": [
      "./predictions_1647092281.json\n",
      "./predictions_1647092281_eval.json\n",
      "./predictions_1647092281_meta.json\n",
      "./predictions_1647094432.json\n",
      "./predictions_1647094432_eval.json\n",
      "./predictions_1647094432_meta.json\n",
      "./predictions_1647099031.json\n",
      "./predictions_1647099031_eval.json\n",
      "./predictions_1647099031_meta.json\n",
      "./predictions_1647099776.json\n",
      "./predictions_1647099776_eval.json\n",
      "./predictions_1647099776_meta.json\n",
      "./predictions_1647107689.json\n",
      "./predictions_1647107689_eval.json\n",
      "./predictions_1647107689_meta.json\n",
      "./predictions_1647111196.json\n",
      "./predictions_1647111196_eval.json\n",
      "./predictions_1647111196_meta.json\n",
      "./predictions_1647144281.json\n",
      "./predictions_1647144281_eval.json\n",
      "./predictions_1647144281_meta.json\n"
     ]
    }
   ],
   "source": [
    "for fp in glob.glob('./predictions_*'):\n",
    "    print(fp)"
   ]
  },
  {
   "cell_type": "code",
   "execution_count": 10,
   "id": "3edf2b57",
   "metadata": {},
   "outputs": [
    {
     "name": "stdout",
     "output_type": "stream",
     "text": [
      "{\r\n",
      "    \"top_k\": 5,\r\n",
      "    \"use_large_index\": false,\r\n",
      "    \"strip_qmark1\": false,\r\n",
      "    \"strip_qmark2\": false,\r\n",
      "    \"strip_qword1\": false,\r\n",
      "    \"strip_qword2\": false,\r\n",
      "    \"prepend_hop_phrase\": false,\r\n",
      "    \"retrieval_unit\": \"phrase\"\r\n",
      "}"
     ]
    }
   ],
   "source": [
    "# Baseline: \"substr_gp\": 16.76, \"overlap\": 27.94\n",
    "\n",
    "cat predictions_1647092281_meta.json"
   ]
  },
  {
   "cell_type": "code",
   "execution_count": 13,
   "id": "30229010",
   "metadata": {},
   "outputs": [
    {
     "name": "stdout",
     "output_type": "stream",
     "text": [
      "{\r\n",
      "    \"top_k\": 5,\r\n",
      "    \"use_large_index\": false,\r\n",
      "    \"strip_qmark\": false,\r\n",
      "    \"strip_qword1\": true,\r\n",
      "    \"strip_qword2\": false,\r\n",
      "    \"prepend_hop_phrase\": false,\r\n",
      "    \"retrieval_unit\": \"phrase\"\r\n",
      "}"
     ]
    }
   ],
   "source": [
    "# Stripped question word at the first pos: \"substr_gp\": 17.2, \"overlap\": 28.3\n",
    "\n",
    "cat predictions_1647094432_meta.json"
   ]
  },
  {
   "cell_type": "code",
   "execution_count": 33,
   "id": "cb4b234e",
   "metadata": {},
   "outputs": [
    {
     "name": "stdout",
     "output_type": "stream",
     "text": [
      "{\r\n",
      "    \"top_k\": 5,\r\n",
      "    \"use_large_index\": false,\r\n",
      "    \"strip_qmark\": false,\r\n",
      "    \"strip_qword1\": true,\r\n",
      "    \"strip_qword2\": false,\r\n",
      "    \"strip_qword_mode\": \"all\",\r\n",
      "    \"prepend_hop_phrase\": false,\r\n",
      "    \"retrieval_unit\": \"phrase\",\r\n",
      "    \"single_hop\": false\r\n",
      "}"
     ]
    }
   ],
   "source": [
    "# Best performing with base index: strip question word over *entire* string:\n",
    "# \"substr_gp\": 17.86, \"overlap\": 29.21\n",
    "\n",
    "!cat predictions_1647178995_meta.json"
   ]
  },
  {
   "cell_type": "code",
   "execution_count": 15,
   "id": "0bc55cca",
   "metadata": {},
   "outputs": [
    {
     "name": "stdout",
     "output_type": "stream",
     "text": [
      "{\r\n",
      "    \"top_k\": 5,\r\n",
      "    \"use_large_index\": false,\r\n",
      "    \"strip_qmark\": false,\r\n",
      "    \"strip_qword1\": false,\r\n",
      "    \"strip_qword2\": false,\r\n",
      "    \"prepend_hop_phrase\": false,\r\n",
      "    \"retrieval_unit\": \"sentence\"\r\n",
      "}"
     ]
    }
   ],
   "source": [
    "# Improvement over baseline in overlap metric: \"substr_gp\": 16.48, \"overlap\": 28.14\n",
    "\n",
    "cat predictions_1647107689_meta.json"
   ]
  },
  {
   "cell_type": "code",
   "execution_count": 16,
   "id": "a0e6051c",
   "metadata": {},
   "outputs": [
    {
     "name": "stdout",
     "output_type": "stream",
     "text": [
      "{\r\n",
      "    \"top_k\": 5,\r\n",
      "    \"use_large_index\": true,\r\n",
      "    \"strip_qmark\": false,\r\n",
      "    \"strip_qword1\": false,\r\n",
      "    \"strip_qword2\": false,\r\n",
      "    \"prepend_hop_phrase\": false,\r\n",
      "    \"retrieval_unit\": \"phrase\"\r\n",
      "}"
     ]
    }
   ],
   "source": [
    "# Large index results in ~5 point improvements: \"substr_gp\": 21.53, \"overlap\": 32.45\n",
    "\n",
    "cat predictions_1647144281_meta.json"
   ]
  },
  {
   "cell_type": "code",
   "execution_count": 21,
   "id": "4e0f0a5b",
   "metadata": {},
   "outputs": [
    {
     "name": "stdout",
     "output_type": "stream",
     "text": [
      "{\r\n",
      "    \"top_k\": 5,\r\n",
      "    \"use_large_index\": true,\r\n",
      "    \"strip_qmark\": false,\r\n",
      "    \"strip_qword1\": true,\r\n",
      "    \"strip_qword2\": false,\r\n",
      "    \"prepend_hop_phrase\": false,\r\n",
      "    \"retrieval_unit\": \"sentence\"\r\n",
      "}"
     ]
    }
   ],
   "source": [
    "# Params based on previous results (sentence-version): \"substr_gp\": 21.29, \"overlap\": 32.72\n",
    "\n",
    "cat predictions_1647148438_meta.json"
   ]
  },
  {
   "cell_type": "code",
   "execution_count": 29,
   "id": "77b9953d",
   "metadata": {},
   "outputs": [
    {
     "name": "stdout",
     "output_type": "stream",
     "text": [
      "{\r\n",
      "    \"top_k\": 5,\r\n",
      "    \"use_large_index\": true,\r\n",
      "    \"strip_qmark\": false,\r\n",
      "    \"strip_qword1\": true,\r\n",
      "    \"strip_qword2\": false,\r\n",
      "    \"prepend_hop_phrase\": false,\r\n",
      "    \"retrieval_unit\": \"phrase\"\r\n",
      "}"
     ]
    }
   ],
   "source": [
    "# strip_qword_mode=\"first\": \"substr_gp\": 22.41, \"overlap\": 33.52\n",
    "\n",
    "!cat predictions_1647150037_meta.json"
   ]
  },
  {
   "cell_type": "code",
   "execution_count": 37,
   "id": "950fe1a9",
   "metadata": {},
   "outputs": [
    {
     "name": "stdout",
     "output_type": "stream",
     "text": [
      "{\r\n",
      "    \"top_k\": 5,\r\n",
      "    \"use_large_index\": true,\r\n",
      "    \"strip_qmark\": false,\r\n",
      "    \"strip_qword1\": true,\r\n",
      "    \"strip_qword2\": false,\r\n",
      "    \"strip_qword_mode\": \"all\",\r\n",
      "    \"prepend_hop_phrase\": false,\r\n",
      "    \"retrieval_unit\": \"phrase\",\r\n",
      "    \"single_hop\": false\r\n",
      "}"
     ]
    }
   ],
   "source": [
    "# Best params so far: \"em\": 18.82, \"overlap\": 34.79, \"overall_avg\": 27.308\n",
    "\n",
    "!cat predictions_1647181298_meta.json"
   ]
  },
  {
   "cell_type": "code",
   "execution_count": 5,
   "id": "00a1bf77",
   "metadata": {},
   "outputs": [
    {
     "name": "stdout",
     "output_type": "stream",
     "text": [
      "{\r\n",
      "    \"top_k\": 5,\r\n",
      "    \"use_large_index\": true,\r\n",
      "    \"strip_qmark\": false,\r\n",
      "    \"strip_qword1\": false,\r\n",
      "    \"strip_qword2\": false,\r\n",
      "    \"strip_qword_mode\": \"all\",\r\n",
      "    \"prepend_hop_phrase\": false,\r\n",
      "    \"retrieval_unit\": \"phrase\",\r\n",
      "    \"single_hop\": true\r\n",
      "}"
     ]
    }
   ],
   "source": [
    "# Single hop performance: \"em\": 19.67, \"substr_gp\": 24.16, \"overlap\": 36.5\n",
    "\n",
    "!cat singlehop_1647185573_meta.json"
   ]
  },
  {
   "cell_type": "code",
   "execution_count": 1,
   "id": "14e105cb",
   "metadata": {},
   "outputs": [
    {
     "name": "stdout",
     "output_type": "stream",
     "text": [
      "{\r\n",
      "    \"n_questions\": 5918,\r\n",
      "    \"em\": 19.67,\r\n",
      "    \"substr_gp\": 24.16,\r\n",
      "    \"substr_pg\": 28.35,\r\n",
      "    \"substr2\": 32.49,\r\n",
      "    \"overlap\": 36.5,\r\n",
      "    \"overall_avg\": 28.234\r\n",
      "}"
     ]
    }
   ],
   "source": [
    "!cat singlehop_1647185573_eval.json"
   ]
  },
  {
   "cell_type": "code",
   "execution_count": 16,
   "id": "f2c1ae4a",
   "metadata": {},
   "outputs": [
    {
     "name": "stdout",
     "output_type": "stream",
     "text": [
      "Reading predictions from singlehop_1647185573.json\n",
      "Reading predictions from predictions_1647181298.json\n",
      "{\n",
      "  \"n_questions\": 5918,\n",
      "  \"em\": 23.72,\n",
      "  \"substr_gp\": 28.76,\n",
      "  \"substr_pg\": 34.49,\n",
      "  \"substr2\": 38.83,\n",
      "  \"overlap\": 42.46,\n",
      "  \"overall_avg\": 33.652\n",
      "}\n",
      "\n",
      "Saved results at singlehop_1647185573_predictions_1647181298_eval.json\n",
      "\n"
     ]
    }
   ],
   "source": [
    "FILE1 = \"singlehop_1647185573.json\"\n",
    "FILE2 = \"predictions_1647181298.json\"\n",
    "compare_wrapper(FILE1, FILE2, union_gold=True)"
   ]
  },
  {
   "cell_type": "code",
   "execution_count": 8,
   "id": "25a01120",
   "metadata": {},
   "outputs": [
    {
     "name": "stdout",
     "output_type": "stream",
     "text": [
      "Reading predictions from predictions_1647150037.json\n",
      "Reading predictions from predictions_1647181298.json\n",
      "{\n",
      "  \"n_questions\": 5918,\n",
      "  \"em\": 79.91,\n",
      "  \"substr_gp\": 81.14,\n",
      "  \"substr_pg\": 81.45,\n",
      "  \"substr2\": 82.63,\n",
      "  \"overlap\": 83.02,\n",
      "  \"overall_avg\": 81.63\n",
      "}\n",
      "\n",
      "Saved results at predictions_1647150037_predictions_1647181298_eval.json\n",
      "\n"
     ]
    }
   ],
   "source": [
    "FILE1 = \"predictions_1647150037.json\"\n",
    "FILE2 = \"predictions_1647181298.json\"\n",
    "compare_wrapper(FILE1, FILE2)"
   ]
  },
  {
   "cell_type": "code",
   "execution_count": 10,
   "id": "ea58351e",
   "metadata": {},
   "outputs": [
    {
     "name": "stdout",
     "output_type": "stream",
     "text": [
      "Reading predictions from predictions_1647094432.json\n",
      "Reading predictions from predictions_1647178995.json\n",
      "{\n",
      "  \"n_questions\": 5918,\n",
      "  \"em\": 80.13,\n",
      "  \"substr_gp\": 81.31,\n",
      "  \"substr_pg\": 81.33,\n",
      "  \"substr2\": 82.47,\n",
      "  \"overlap\": 82.74,\n",
      "  \"overall_avg\": 81.596\n",
      "}\n",
      "\n",
      "Saved results at predictions_1647094432_predictions_1647178995_eval.json\n",
      "\n"
     ]
    }
   ],
   "source": [
    "FILE1 = \"predictions_1647094432.json\"\n",
    "FILE2 = \"predictions_1647178995.json\"\n",
    "compare_wrapper(FILE1, FILE2)"
   ]
  },
  {
   "cell_type": "code",
   "execution_count": null,
   "id": "126bd63c",
   "metadata": {},
   "outputs": [],
   "source": []
  }
 ],
 "metadata": {
  "kernelspec": {
   "display_name": "Python 3 (ipykernel)",
   "language": "python",
   "name": "python3"
  },
  "language_info": {
   "codemirror_mode": {
    "name": "ipython",
    "version": 3
   },
   "file_extension": ".py",
   "mimetype": "text/x-python",
   "name": "python",
   "nbconvert_exporter": "python",
   "pygments_lexer": "ipython3",
   "version": "3.7.11"
  }
 },
 "nbformat": 4,
 "nbformat_minor": 5
}

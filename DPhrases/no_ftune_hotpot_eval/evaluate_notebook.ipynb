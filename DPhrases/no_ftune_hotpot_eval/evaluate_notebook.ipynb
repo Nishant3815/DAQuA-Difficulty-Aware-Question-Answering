{
 "cells": [
  {
   "cell_type": "code",
   "execution_count": 1,
   "id": "040c64c5",
   "metadata": {},
   "outputs": [],
   "source": [
    "from evaluate import *\n",
    "\n",
    "# for auto-reloading external modules\n",
    "# see http://stackoverflow.com/questions/1907993/autoreload-of-modules-in-ipython\n",
    "%load_ext autoreload\n",
    "%autoreload 2"
   ]
  },
  {
   "cell_type": "code",
   "execution_count": 2,
   "id": "134ae992",
   "metadata": {},
   "outputs": [],
   "source": [
    "def compare_wrapper(fp1, fp2, unique=True, write=True, union_gold=False):\n",
    "    \"\"\"\n",
    "    Compare 2 prediction files\n",
    "    \"\"\"\n",
    "\n",
    "    # Read data from disk\n",
    "    print(f\"Reading predictions from {fp1}\")\n",
    "    results1 = read_results(FILE1)\n",
    "    print(f\"Reading predictions from {fp2}\")\n",
    "    results2 = read_results(FILE2)\n",
    "\n",
    "    OUTPUT_PATH = fp1.replace(\".json\", f\"_{fp2.replace('.json', '_eval.json')}\")\n",
    "\n",
    "    # Compute metrics\n",
    "    eval_results = compare_predictions(results1, results2, unique=unique, union_gold=union_gold)\n",
    "\n",
    "    if write:\n",
    "        # Write results to disk\n",
    "        write_eval_results(OUTPUT_PATH, eval_results)\n",
    "        print(f\"\\nSaved results at {OUTPUT_PATH}\\n\")"
   ]
  },
  {
   "cell_type": "code",
   "execution_count": 8,
   "id": "160d3fc3",
   "metadata": {
    "scrolled": true
   },
   "outputs": [
    {
     "name": "stdout",
     "output_type": "stream",
     "text": [
      "Reading predictions from ./oracle_all_sent_preds_1648226462.json\n",
      "{\n",
      "  \"n_questions\": 5918,\n",
      "  \"em\": 27.91,\n",
      "  \"substr_gp\": 33.12,\n",
      "  \"substr_pg\": 38.85,\n",
      "  \"substr2\": 43.33,\n",
      "  \"overlap\": 45.93,\n",
      "  \"overall_avg\": 37.83\n",
      "}\n",
      "\n",
      "Saved results at ./oracle_all_sent_preds_1648226462_eval.json\n",
      "\n",
      "Reading predictions from ./oracle_sent_preds_1648199883.json\n",
      "{\n",
      "  \"n_questions\": 5918,\n",
      "  \"em\": 28.37,\n",
      "  \"substr_gp\": 33.73,\n",
      "  \"substr_pg\": 39.57,\n",
      "  \"substr2\": 44.17,\n",
      "  \"overlap\": 46.71,\n",
      "  \"overall_avg\": 38.51\n",
      "}\n",
      "\n",
      "Saved results at ./oracle_sent_preds_1648199883_eval.json\n",
      "\n",
      "Reading predictions from ./oracle_title_preds_1648201162.json\n",
      "{\n",
      "  \"n_questions\": 5918,\n",
      "  \"em\": 22.32,\n",
      "  \"substr_gp\": 27.21,\n",
      "  \"substr_pg\": 32.33,\n",
      "  \"substr2\": 36.52,\n",
      "  \"overlap\": 40.25,\n",
      "  \"overall_avg\": 31.73\n",
      "}\n",
      "\n",
      "Saved results at ./oracle_title_preds_1648201162_eval.json\n",
      "\n",
      "Reading predictions from ./oracle_title_sent_preds_1648202141.json\n",
      "{\n",
      "  \"n_questions\": 5918,\n",
      "  \"em\": 28.17,\n",
      "  \"substr_gp\": 33.58,\n",
      "  \"substr_pg\": 39.61,\n",
      "  \"substr2\": 44.14,\n",
      "  \"overlap\": 46.7,\n",
      "  \"overall_avg\": 38.44\n",
      "}\n",
      "\n",
      "Saved results at ./oracle_title_sent_preds_1648202141_eval.json\n",
      "\n"
     ]
    }
   ],
   "source": [
    "# Read prediction files and run evaluation\n",
    "import glob\n",
    "\n",
    "MODE = \"oracle\"  # single / multi\n",
    "\n",
    "PATH_PREFIX = {\n",
    "    \"single\": \"singlehop\",\n",
    "    \"multi\": \"predictions\",\n",
    "    \"oracle\": \"oracle\"\n",
    "}\n",
    "\n",
    "for fp in glob.glob(f'./{PATH_PREFIX[MODE]}_*'):\n",
    "    if \"meta\" in fp or \"eval\" in fp:\n",
    "        continue\n",
    "    \n",
    "    # Read data from disk\n",
    "    print(f\"Reading predictions from {fp}\")\n",
    "    results = read_results(fp)\n",
    "    OUTPUT_PATH = fp.replace(\".json\", \"_eval.json\")\n",
    "\n",
    "    # Compute metrics\n",
    "    eval_results = compute_metrics(results)\n",
    "    \n",
    "    # Write results to disk\n",
    "    write_eval_results(OUTPUT_PATH, eval_results)\n",
    "    print(f\"\\nSaved results at {OUTPUT_PATH}\\n\")"
   ]
  },
  {
   "cell_type": "code",
   "execution_count": 19,
   "id": "b59fae2b",
   "metadata": {},
   "outputs": [
    {
     "name": "stdout",
     "output_type": "stream",
     "text": [
      "./predictions_1648115963.json\n",
      "./predictions_1648115963_eval.json\n",
      "./predictions_1648115963_meta.json\n",
      "./singlehop_1648033166.json\n",
      "./singlehop_1648033166_eval.json\n",
      "./singlehop_1648033166_meta.json\n",
      "./singlehop_1648036353.json\n",
      "./singlehop_1648036353_eval.json\n",
      "./singlehop_1648036353_meta.json\n",
      "./singlehop_1648036353_predictions_1648115963_eval.json\n",
      "./singlehop_1648041365.json\n",
      "./singlehop_1648041365_eval.json\n",
      "./singlehop_1648041365_meta.json\n"
     ]
    }
   ],
   "source": [
    "for fp in glob.glob('./*.json'):\n",
    "    print(fp)"
   ]
  },
  {
   "cell_type": "code",
   "execution_count": 21,
   "id": "63fb7616",
   "metadata": {},
   "outputs": [
    {
     "name": "stdout",
     "output_type": "stream",
     "text": [
      "Reading predictions from singlehop_1648036353.json\n",
      "Reading predictions from predictions_1648127590.json\n",
      "{\n",
      "  \"n_questions\": 5918,\n",
      "  \"em\": 41.33,\n",
      "  \"substr_gp\": 45.5,\n",
      "  \"substr_pg\": 47.26,\n",
      "  \"substr2\": 51.07,\n",
      "  \"overlap\": 52.05,\n",
      "  \"overall_avg\": 47.44199999999999\n",
      "}\n",
      "\n",
      "Saved results at singlehop_1648036353_predictions_1648127590_eval.json\n",
      "\n"
     ]
    }
   ],
   "source": [
    "FILE1 = \"singlehop_1648036353.json\"\n",
    "FILE2 = \"predictions_1648127590.json\"\n",
    "compare_wrapper(FILE1, FILE2)"
   ]
  },
  {
   "cell_type": "code",
   "execution_count": 22,
   "id": "902ff83c",
   "metadata": {},
   "outputs": [
    {
     "name": "stdout",
     "output_type": "stream",
     "text": [
      "Reading predictions from singlehop_1648036353.json\n",
      "Reading predictions from predictions_1648127590.json\n",
      "{\n",
      "  \"n_questions\": 5918,\n",
      "  \"em\": 25.35,\n",
      "  \"substr_gp\": 30.75,\n",
      "  \"substr_pg\": 37.01,\n",
      "  \"substr2\": 41.26,\n",
      "  \"overlap\": 44.61,\n",
      "  \"overall_avg\": 35.79600000000001\n",
      "}\n",
      "\n",
      "Saved results at singlehop_1648036353_predictions_1648127590_eval.json\n",
      "\n"
     ]
    }
   ],
   "source": [
    "FILE1 = \"singlehop_1648036353.json\"\n",
    "FILE2 = \"predictions_1648127590.json\"\n",
    "compare_wrapper(FILE1, FILE2, union_gold=True)"
   ]
  },
  {
   "cell_type": "code",
   "execution_count": null,
   "id": "2fa05844",
   "metadata": {},
   "outputs": [],
   "source": []
  }
 ],
 "metadata": {
  "kernelspec": {
   "display_name": "Python 3 (ipykernel)",
   "language": "python",
   "name": "python3"
  },
  "language_info": {
   "codemirror_mode": {
    "name": "ipython",
    "version": 3
   },
   "file_extension": ".py",
   "mimetype": "text/x-python",
   "name": "python",
   "nbconvert_exporter": "python",
   "pygments_lexer": "ipython3",
   "version": "3.7.11"
  }
 },
 "nbformat": 4,
 "nbformat_minor": 5
}

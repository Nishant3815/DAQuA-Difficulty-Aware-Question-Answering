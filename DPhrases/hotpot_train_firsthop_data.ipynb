{
 "cells": [
  {
   "cell_type": "code",
   "execution_count": 1,
   "id": "d856a479",
   "metadata": {},
   "outputs": [],
   "source": [
    "import json"
   ]
  },
  {
   "cell_type": "code",
   "execution_count": 8,
   "id": "b55841dc",
   "metadata": {},
   "outputs": [],
   "source": [
    "# Read training data\n",
    "\n",
    "fp_hotpot_mdr = \"../multihop_dense_retrieval/data/hotpot/hotpot_train_with_neg_v0.json\"\n",
    "fp_hotpot_original = \"../multihop_dense_retrieval/data/hotpot/hotpot_train_v1.1.json\"\n",
    "\n",
    "with open(fp_hotpot_mdr, 'r') as handle:\n",
    "    hotpot_mdr = json.load(handle)\n",
    "    \n",
    "with open(fp_hotpot_original, 'r') as handle:\n",
    "    hotpot_orig = json.load(handle)"
   ]
  },
  {
   "cell_type": "code",
   "execution_count": 12,
   "id": "1d6e6944",
   "metadata": {},
   "outputs": [],
   "source": [
    "hotpot_mdr = []\n",
    "with open(fp_hotpot_mdr, 'r') as handle:\n",
    "    lines = handle.readlines()\n",
    "    for l in lines:\n",
    "        hotpot_mdr.append(json.loads(l))"
   ]
  },
  {
   "cell_type": "code",
   "execution_count": 10,
   "id": "e10855a6",
   "metadata": {},
   "outputs": [
    {
     "data": {
      "text/plain": [
       "90447"
      ]
     },
     "execution_count": 10,
     "metadata": {},
     "output_type": "execute_result"
    }
   ],
   "source": [
    "# Training data length\n",
    "len(hotpot_orig)"
   ]
  },
  {
   "cell_type": "code",
   "execution_count": 11,
   "id": "41dd2209",
   "metadata": {},
   "outputs": [
    {
     "data": {
      "text/plain": [
       "{'supporting_facts': [[\"Arthur's Magazine\", 0], ['First for Women', 0]],\n",
       " 'level': 'medium',\n",
       " 'question': \"Which magazine was started first Arthur's Magazine or First for Women?\",\n",
       " 'context': [['Radio City (Indian radio station)',\n",
       "   [\"Radio City is India's first private FM radio station and was started on 3 July 2001.\",\n",
       "    ' It broadcasts on 91.1 (earlier 91.0 in most cities) megahertz from Mumbai (where it was started in 2004), Bengaluru (started first in 2001), Lucknow and New Delhi (since 2003).',\n",
       "    ' It plays Hindi, English and regional songs.',\n",
       "    ' It was launched in Hyderabad in March 2006, in Chennai on 7 July 2006 and in Visakhapatnam October 2007.',\n",
       "    ' Radio City recently forayed into New Media in May 2008 with the launch of a music portal - PlanetRadiocity.com that offers music related news, videos, songs, and other music-related features.',\n",
       "    ' The Radio station currently plays a mix of Hindi and Regional music.',\n",
       "    ' Abraham Thomas is the CEO of the company.']],\n",
       "  ['History of Albanian football',\n",
       "   ['Football in Albania existed before the Albanian Football Federation (FSHF) was created.',\n",
       "    \" This was evidenced by the team's registration at the Balkan Cup tournament during 1929-1931, which started in 1929 (although Albania eventually had pressure from the teams because of competition, competition started first and was strong enough in the duels) .\",\n",
       "    ' Albanian National Team was founded on June 6, 1930, but Albania had to wait 16 years to play its first international match and then defeated Yugoslavia in 1946.',\n",
       "    ' In 1932, Albania joined FIFA (during the 12–16 June convention ) And in 1954 she was one of the founding members of UEFA.']],\n",
       "  ['Echosmith',\n",
       "   ['Echosmith is an American, Corporate indie pop band formed in February 2009 in Chino, California.',\n",
       "    ' Originally formed as a quartet of siblings, the band currently consists of Sydney, Noah and Graham Sierota, following the departure of eldest sibling Jamie in late 2016.',\n",
       "    ' Echosmith started first as \"Ready Set Go!\"',\n",
       "    ' until they signed to Warner Bros.',\n",
       "    ' Records in May 2012.',\n",
       "    ' They are best known for their hit song \"Cool Kids\", which reached number 13 on the \"Billboard\" Hot 100 and was certified double platinum by the RIAA with over 1,200,000 sales in the United States and also double platinum by ARIA in Australia.',\n",
       "    ' The song was Warner Bros.',\n",
       "    \" Records' fifth-biggest-selling-digital song of 2014, with 1.3 million downloads sold.\",\n",
       "    ' The band\\'s debut album, \"Talking Dreams\", was released on October 8, 2013.']],\n",
       "  [\"Women's colleges in the Southern United States\",\n",
       "   [\"Women's colleges in the Southern United States refers to undergraduate, bachelor's degree–granting institutions, often liberal arts colleges, whose student populations consist exclusively or almost exclusively of women, located in the Southern United States.\",\n",
       "    \" Many started first as girls' seminaries or academies.\",\n",
       "    ' Salem College is the oldest female educational institution in the South and Wesleyan College is the first that was established specifically as a college for women.',\n",
       "    ' Some schools, such as Mary Baldwin University and Salem College, offer coeducational courses at the graduate level.']],\n",
       "  ['First Arthur County Courthouse and Jail',\n",
       "   ['The First Arthur County Courthouse and Jail, was perhaps the smallest court house in the United States, and serves now as a museum.']],\n",
       "  [\"Arthur's Magazine\",\n",
       "   [\"Arthur's Magazine (1844–1846) was an American literary periodical published in Philadelphia in the 19th century.\",\n",
       "    ' Edited by T.S. Arthur, it featured work by Edgar A. Poe, J.H. Ingraham, Sarah Josepha Hale, Thomas G. Spear, and others.',\n",
       "    ' In May 1846 it was merged into \"Godey\\'s Lady\\'s Book\".']],\n",
       "  ['2014–15 Ukrainian Hockey Championship',\n",
       "   ['The 2014–15 Ukrainian Hockey Championship was the 23rd season of the Ukrainian Hockey Championship.',\n",
       "    ' Only four teams participated in the league this season, because of the instability in Ukraine and that most of the clubs had economical issues.',\n",
       "    ' Generals Kiev was the only team that participated in the league the previous season, and the season started first after the year-end of 2014.',\n",
       "    ' The regular season included just 12 rounds, where all the teams went to the semifinals.',\n",
       "    ' In the final, ATEK Kiev defeated the regular season winner HK Kremenchuk.']],\n",
       "  ['First for Women',\n",
       "   [\"First for Women is a woman's magazine published by Bauer Media Group in the USA.\",\n",
       "    ' The magazine was started in 1989.',\n",
       "    ' It is based in Englewood Cliffs, New Jersey.',\n",
       "    ' In 2011 the circulation of the magazine was 1,310,696 copies.']],\n",
       "  ['Freeway Complex Fire',\n",
       "   ['The Freeway Complex Fire was a 2008 wildfire in the Santa Ana Canyon area of Orange County, California.',\n",
       "    ' The fire started as two separate fires on November 15, 2008.',\n",
       "    ' The \"Freeway Fire\" started first shortly after 9am with the \"Landfill Fire\" igniting approximately 2 hours later.',\n",
       "    ' These two separate fires merged a day later and ultimately destroyed 314 residences in Anaheim Hills and Yorba Linda.']],\n",
       "  ['William Rast',\n",
       "   ['William Rast is an American clothing line founded by Justin Timberlake and Trace Ayala.',\n",
       "    ' It is most known for their premium jeans.',\n",
       "    ' On October 17, 2006, Justin Timberlake and Trace Ayala put on their first fashion show to launch their new William Rast clothing line.',\n",
       "    ' The label also produces other clothing items such as jackets and tops.',\n",
       "    ' The company started first as a denim line, later evolving into a men’s and women’s clothing line.']]],\n",
       " 'answer': \"Arthur's Magazine\",\n",
       " '_id': '5a7a06935542990198eaf050',\n",
       " 'type': 'comparison'}"
      ]
     },
     "execution_count": 11,
     "metadata": {},
     "output_type": "execute_result"
    }
   ],
   "source": [
    "# Example training object\n",
    "hotpot_orig[0]"
   ]
  },
  {
   "cell_type": "code",
   "execution_count": 16,
   "id": "59b1e4d8",
   "metadata": {},
   "outputs": [
    {
     "name": "stdout",
     "output_type": "stream",
     "text": [
      "0\n",
      "0\n"
     ]
    }
   ],
   "source": [
    "# Count number of questions for which the context is not available for the SUP sentences\n",
    "\n",
    "count_one, count_both, not_two = 0,0,0\n",
    "for h in hotpot_orig:\n",
    "    sup_set = set()\n",
    "    for sup in h['supporting_facts']:\n",
    "        sup_set.add(sup[0])\n",
    "    context_set = set()\n",
    "    for context in h['context']:\n",
    "        context_set.add(context[0])\n",
    "    if len(sup_set.intersection(context_set)) == 0:\n",
    "        count_both += 1\n",
    "    if len(sup_set) <2:\n",
    "        not_two += 1\n",
    "print(count_both)\n",
    "print(not_two)"
   ]
  },
  {
   "cell_type": "code",
   "execution_count": 18,
   "id": "1daa5ce7",
   "metadata": {},
   "outputs": [
    {
     "data": {
      "text/plain": [
       "90447"
      ]
     },
     "execution_count": 18,
     "metadata": {},
     "output_type": "execute_result"
    }
   ],
   "source": [
    "# Check if the MDR-processed hotpot data is the same length\n",
    "len(hotpot_mdr)"
   ]
  },
  {
   "cell_type": "code",
   "execution_count": 22,
   "id": "455acaa8",
   "metadata": {},
   "outputs": [
    {
     "data": {
      "text/plain": [
       "{'question': 'The Oberoi family is part of a hotel company that has a head office in what city?',\n",
       " 'answers': ['Delhi'],\n",
       " 'type': 'bridge',\n",
       " 'pos_paras': [{'title': 'Oberoi family',\n",
       "   'text': 'The Oberoi family is an Indian family that is famous for its involvement in hotels, namely through The Oberoi Group.'},\n",
       "  {'title': 'The Oberoi Group',\n",
       "   'text': 'The Oberoi Group is a hotel company with its head office in Delhi. Founded in 1934, the company owns and/or operates 30+ luxury hotels and two river cruise ships in six countries, primarily under its Oberoi Hotels & Resorts and Trident Hotels brands.'}],\n",
       " 'neg_paras': [{'title': 'Future Fibre Technologies',\n",
       "   'text': 'Future Fibre Technologies (FFT) is a fiber optic sensing technologies company based in Melbourne, Australia, with its US head office in Mountain View, California, Middle East head office in Dubai, Indian head office in New Delhi and European head office in London. Founded in 1994, Future Fibre Technologies product line provides optical fiber intrusion detection systems for perimeters, buried oil and gas pipelines and data communication networks.'},\n",
       "  {'title': 'Maple Leaf Foods',\n",
       "   'text': 'Maple Leaf Foods Inc. () is a major Canadian consumer packaged meats company. Its head office is in Toronto.'},\n",
       "  {'title': 'Tage Inn',\n",
       "   'text': 'Tage Inn Corporation was a hotel company in New England that developed, owned and operated mid-scale without food & beverage hotels during the 1990s and early 2000s. The company was founded by Joseph P. Tagliente and his son Joe Jr. with the opening of their first hotel in Milford, Massachusetts in 1989. From there they developed three additional hotels in Andover, Massachusetts by 1992, Somerville, Massachusetts in 2000 and Manchester, New Hampshire in 2003. In 2004 the Tagliente Family decided to sell their hotels to the La Quinta Hotel Corporation for 26\\xa0Million USD. La Quinta subsequently converted the hotels to La Quinta Hotels & Suites.'},\n",
       "  {'title': 'Ishqbaaaz',\n",
       "   'text': 'Ishqbaaaz (English: \"Lovers\") is an Indian drama television series which is broadcast on Star Plus. It premiered on 27 June 2016 and airs Mon-Fri 10-11pm IST.Nakuul Mehta, Kunal Jaisingh and Leenesh Mattoo respectively portray Shivaay, Omkara and Rudra, the three heirs of the Oberoi family. The show initially focused on the tale of three brothers, later become centered on the love story of Shivaay and Annika (Surbhi Chandna); with the story of Omkara and Rudra being shifted to the spinoff series \"Dil Boley Oberoi\". In July 2017 \"Dil Boley Oberoi\" ended and the storylines were merged back into \"Ishqbaaaz\" which doubled its runtime.'},\n",
       "  {'title': 'Hotel',\n",
       "   'text': 'A hotel is an establishment that provides paid lodging on a short-term basis. Facilities provided may range from a modest-quality mattress in a small room to large suites with bigger, higher-quality beds, a dresser, a fridge and other kitchen facilities, upholstered chairs, a flatscreen television and en-suite bathrooms. Small, lower-priced hotels may offer only the most basic guest services and facilities. Larger, higher-priced hotels may provide additional guest facilities such as a swimming pool, business centre (with computers, printers and other office equipment), childcare, conference and event facilities, tennis or basketball courts, gymnasium, restaurants, day spa and social function services. Hotel rooms are usually numbered (or named in some smaller hotels and B&Bs) to allow guests to identify their room. Some boutique, high-end hotels have custom decorated rooms. Some hotels offer meals as part of a room and board arrangement. In the United Kingdom, a hotel is required by law to serve food and drinks to all guests within certain stated hours. In Japan, capsule hotels provide a tiny room suitable only for sleeping and shared bathroom facilities.'},\n",
       "  {'title': 'Mohan Singh Oberoi',\n",
       "   'text': \"Rai Bahadur Mohan Singh Oberoi (15 August 1898\\xa0– 3 May 2002) was an Indian hotelier, the founder and chairman of Oberoi Hotels & Resorts, India's second-largest hotel company, with 35 hotels in India, Sri Lanka, Nepal, Egypt, Australia and Hungary.\"},\n",
       "  {'title': 'Star Plus',\n",
       "   'text': \"Star Plus (Hindi: स्टार प्लस ) is a Hindi language general entertainment television channel based in India. Star Plus channel is part of 21st Century Fox's Star India network. The shows include a mix of family dramas, comedies, youth-oriented, reality shows, shows on crime and telefilms. The channel is also distributed worldwide by Fox International Channels, subsidiary of 21st Century Fox.\"},\n",
       "  {'title': 'Hotel Tallcorn',\n",
       "   'text': \"The Hotel Tallcorn is located in Marshalltown, Iowa. Today it is called the Tallcorn Towers Apartments. Built in 1928 by the Eppley Hotel Company, local citizens contributed $120,000 to ensure the successful completion of this seven-story hotel. It was completed in connection to the seventy-fifth anniversary of Marshalltown. The hotel's sale in 1956 from the Eppley chain to the Sheraton Corporation was part of the second largest hotel sale in United States history. The Tallcorn was listed as a contributing property in the Marshalltown Downtown Historic District on the National Register of Historic Places in 2002.\"},\n",
       "  {'title': 'Grand Hotel (Kolkata)',\n",
       "   'text': 'The Grand Hotel, now called the Oberoi Grand, is situated in the heart of Kolkata on Chowringhee Road. It is an elegant building of British era and is a famous building in Kolkata. The hotel is owned by Oberoi chain of hotels.'},\n",
       "  {'title': 'The Oberoi, Gurgaon',\n",
       "   'text': 'The Oberoi, Gurgaon is a luxury hotel in Gurgaon, the business hub on the outskirts of capital New Delhi. Owned by Gurgaon-based developers \"Orbit Resorts\" the owner is Parkash Singh Badal and managed by The Oberoi Hotels & Resorts chain, it was built at a cost of () and opened on 13 April 2011 catering mainly to business travellers. The hotel is situated right next to the Trident Hotel property close to NH-8, also under a management contract with Orbit Resorts.'},\n",
       "  {'title': 'Ibis (hotel)',\n",
       "   'text': 'Ibis (corporately styled, ibis) is an international hotel company owned by AccorHotels, a hotel holding company. AccorHotels is listed on the Paris Stock Exchange and was founded in 1967. Ibis opened its founding hotel in 1974. The hotels are generally close to city centres, airports or railway stations, and offer low rates compared to many global hotel groups of comparable size.'},\n",
       "  {'title': 'Prithvi Raj Singh Oberoi',\n",
       "   'text': 'Prithviraj Singh \"Biki\" Oberoi (born 1929) is the Executive Chairman of the () EIH Limited (formerly East India Hotels), , the flagship company of India’s The Oberoi Group, which runs a chain of luxury hotels, The Trident hotels and Oberoi Hotels & Resorts., the third largest hospitality chain in India.'},\n",
       "  {'title': 'Ritz-Carlton Jakarta',\n",
       "   'text': 'The Ritz-Carlton Jakarta is a hotel and skyscraper in Jakarta, Indonesia and 14th Tallest building in Jakarta. It is located in city center of Jakarta, near Mega Kuningan, adjacent to the sister JW Marriott Hotel. It is operated by The Ritz-Carlton Hotel Company. The complex has two towers that comprises a hotel and the Airlangga Apartment respectively. The hotel was opened in 2005.'},\n",
       "  {'title': 'AccorHotels',\n",
       "   'text': 'Accor S.A., using the brand name AccorHotels, is a French multinational hotel group, part of the CAC 40 index, which operates in 95 countries.'},\n",
       "  {'title': 'Gurgaon',\n",
       "   'text': \"Gurgaon (officially known as Gurugram) is a city in the Indian state of Haryana and is part of the National Capital Region of India. It is 32 km southwest of New Delhi and south of Chandigarh, the state capital. s of 2011 , Gurugram had a population of 876,824. Witnessing rapid urbanisation, Gurugram has become a leading financial and industrial hub with the third-highest per capita income in India. The city's economic growth story started when the leading Indian automobile manufacturer Maruti Suzuki India Limited established a manufacturing plant in Gurugram in the 1970s. Today, Gurugram has local offices for more than 250 Fortune 500 companies.\"},\n",
       "  {'title': '289th Military Police Company',\n",
       "   'text': \"The 289th Military Police Company was activated on 1 November 1994 and attached to Hotel Company, 3rd Infantry (The Old Guard), Fort Myer, Virginia. Hotel Company is the regiment's specialty company.\"},\n",
       "  {'title': 'New Delhi',\n",
       "   'text': 'New Delhi ( ) is the capital of India and one of Delhi city\\'s 11 districts. Although colloquially \"Delhi\" and \"New Delhi\" are used interchangeably to refer to the National Capital Territory of Delhi, these are two distinct entities, with New Delhi forming a small part of Delhi. The National Capital Region is a much larger entity comprising the entire National Capital Territory of Delhi along with adjoining districts. It is surrounded by Haryana on three sides and Uttar Pradesh on the east.'},\n",
       "  {'title': 'GreenTree Inns',\n",
       "   'text': 'GreenTree Inns Hotel Management Group, Inc. is a hotel company headquartered in Shanghai, China. GreenTree Inns was founded in 2004. The company is 6th largest hotel franchise company worldwide and owns five high quality brands. GreenTree Inns also has U.S. affiliate, GreenTree Hospitality Group, Inc. which operates and administers the GreenTree Inn franchise in the United States. As of March 2016, GreenTree Inns owned, managed and franchised over 2,600 properties.'}],\n",
       " 'bridge': 'The Oberoi Group',\n",
       " '_id': '5a879ab05542996e4f30887e'}"
      ]
     },
     "execution_count": 22,
     "metadata": {},
     "output_type": "execute_result"
    }
   ],
   "source": [
    "# Example object in MDR hotpot\n",
    "hotpot_mdr[1]"
   ]
  },
  {
   "cell_type": "code",
   "execution_count": 29,
   "id": "3a4af42d",
   "metadata": {},
   "outputs": [],
   "source": [
    "def extract_sentences(sup_idx_list, context_list, doc_title=None):\n",
    "    return_obj = []\n",
    "    sup = {}\n",
    "    for s in sup_idx_list:\n",
    "        if s[0] not in sup:\n",
    "            sup[s[0]] = []\n",
    "        sup[s[0]].append(s[1])\n",
    "    for c in context_list:\n",
    "        if c[0] not in sup:\n",
    "            continue\n",
    "        if doc_title is not None and c[0] != doc_title:\n",
    "            continue\n",
    "        for i in sup[c[0]]:\n",
    "            try:\n",
    "                return_obj.append(c[1][i])\n",
    "            except:\n",
    "                print(\"IndexError: ignoring\")\n",
    "                print(c[0])\n",
    "                print(c[1])\n",
    "                print(sup[c[0]])\n",
    "    return return_obj"
   ]
  },
  {
   "cell_type": "code",
   "execution_count": 30,
   "id": "51878c94",
   "metadata": {},
   "outputs": [
    {
     "name": "stdout",
     "output_type": "stream",
     "text": [
      "IndexError: ignoring\n",
      "Minoru Suzuki\n",
      "['Minoru Suzuki (鈴木 実 , Suzuki Minoru , ring name: 鈴木 みのる) (born June 17, 1968) is a Japanese professional wrestler and mixed martial artist who is currently working for New Japan Pro Wrestling (NJPW) as a freelancer.', ' He is the current NEVER Openweight Champion in his first reign.']\n",
      "[0, 1, 2]\n",
      "IndexError: ignoring\n",
      "Khady Sylla\n",
      "['Khady Sylla (Dakar, March 27, 1963 – Dakar, October 8, 2013) was a Senegalese writer of two novels, short work, and film.']\n",
      "[0, 2]\n",
      "IndexError: ignoring\n",
      "Harry Styles\n",
      "['Harry Edward Styles (born 1 February 1994) is an English singer, songwriter, and actor.', ' He made his debut as a singer with his band White Eskimo, who performed locally in Holmes Chapel, Cheshire.', ' Styles rose to stardom as a member of the boy band One Direction, formed in 2010 through the British music competition series \"The X Factor\".', ' One Direction has released five albums, performed four worldwide tours, and won several awards.']\n",
      "[0, 3, 4]\n",
      "IndexError: ignoring\n",
      "William T. Anderson\n",
      "['William T. Anderson (1840 – October 26, 1864)—known as \"Bloody Bill\" Anderson—was one of the deadliest and most brutal pro-Confederate guerrilla leaders in the American Civil War.', ' Anderson led a band that targeted Union loyalists and Federal soldiers in Missouri and Kansas.']\n",
      "[1, 2]\n",
      "IndexError: ignoring\n",
      "Savannah cat\n",
      "['The Savannah is a hybrid cat breed.', ' It is a cross between a serval and a domestic cat.']\n",
      "[0, 2]\n",
      "IndexError: ignoring\n",
      "Albany and Schenectady Railroad\n",
      "['The Mohawk & Hudson Railroad was the first railroad built in the State of New York and one of the first railroads in the United States.', ' It was so-named because it linked the Mohawk River at Schenectady with the Hudson River at Albany.', ' It was conceived as a means of allowing Erie Canal passengers to quickly bypass the circuitous Cohoes Falls via steam powered trains.']\n",
      "[1, 30]\n",
      "IndexError: ignoring\n",
      "Buprenorphine\n",
      "['Buprenorphine, sold under the brand name Subutex, among others, is an opioid used to treat opioid addiction, moderate acute pain and moderate chronic pain.', ' The combination buprenorphine/naloxone is also used for opioid addiction.']\n",
      "[0, 7]\n",
      "IndexError: ignoring\n",
      "Jan Hooks\n",
      "['Janet Vivian \"Jan\" Hooks (April 23, 1957 – October 9, 2014) was an American actress and comedian best known for her work on \"Saturday Night Live\", where she was a repertory player from 1986–91, and continued making cameo appearances until 1994.', ' Her subsequent work included a regular role on the final two seasons of \"Designing Women\", a recurring role on \"3rd Rock from the Sun\" and a number of other roles in film and television.']\n",
      "[0, 8]\n",
      "IndexError: ignoring\n",
      "Minister of Defence (India)\n",
      "['The Minister of Defence is the head of the Ministry of Defence of the Government of India.', ' They are often assisted by a Minister of State for Defence and less-commonly, the lower-ranked Deputy Minister of Defence.', ' The defence minister additionally serves as President of the Institute for Defence Studies and Analyses, and as Chancellor of the Defence Institute of Advanced Technology and of the National Defence University.']\n",
      "[0, 11]\n"
     ]
    }
   ],
   "source": [
    "output = []\n",
    "\n",
    "for i in range(len(hotpot_orig)):\n",
    "    orig_obj = hotpot_orig[i]\n",
    "    mdr_obj = hotpot_mdr[i]\n",
    "    q_obj = {\n",
    "        \"id\": orig_obj[\"_id\"],\n",
    "        \"question\": orig_obj[\"question\"],\n",
    "        \"level\": orig_obj[\"level\"],\n",
    "        \"type\": orig_obj[\"type\"],\n",
    "        \"answers\": [],\n",
    "        \"final_answer\": orig_obj[\"answer\"],\n",
    "    }\n",
    "    if orig_obj[\"type\"] == \"comparison\":\n",
    "        # Fetch all SUP sentences into \"answers\"\n",
    "        q_obj[\"answers\"] = extract_sentences(orig_obj[\"supporting_facts\"], orig_obj[\"context\"])\n",
    "    else:\n",
    "        # Fetch only the first-hop SUP sentences into \"answers\"\n",
    "        for sup in orig_obj[\"supporting_facts\"]:\n",
    "            if sup[0] != mdr_obj[\"bridge\"]:\n",
    "                q_obj[\"answers\"] = extract_sentences(orig_obj[\"supporting_facts\"], orig_obj[\"context\"], sup[0])\n",
    "                break\n",
    "    output.append(q_obj)"
   ]
  },
  {
   "cell_type": "code",
   "execution_count": 33,
   "id": "399c10dd",
   "metadata": {},
   "outputs": [
    {
     "data": {
      "text/plain": [
       "{'id': '5ab698885542995eadef002a',\n",
       " 'question': 'American politician Joe Heck ran unsuccessfully against Democrat Catherine Cortez Masto, a woman who previously served as the 32nd Attorney General of where?',\n",
       " 'level': 'easy',\n",
       " 'type': 'bridge',\n",
       " 'answers': [\"Joseph John “Joe” Heck (born October 30, 1961) is an American politician, physician, and U.S. Army Brigadier General who had served as the U.S. Representative for Nevada's 3rd congressional district from 2011 to 2017.\",\n",
       "  ' He ran unsuccessfully against Democrat Catherine Cortez Masto in the general election for the open Nevada United States Senate seat in 2016.'],\n",
       " 'final_answer': 'Nevada'}"
      ]
     },
     "execution_count": 33,
     "metadata": {},
     "output_type": "execute_result"
    }
   ],
   "source": [
    "output[19]"
   ]
  },
  {
   "cell_type": "code",
   "execution_count": 35,
   "id": "7a0b1373",
   "metadata": {},
   "outputs": [],
   "source": [
    "# Store results to disk\n",
    "\n",
    "output_fp = \"../multihop_dense_retrieval/data/hotpot/hotpot_train_firsthop.json\"\n",
    "with open(output_fp, 'w') as fp:\n",
    "    json.dump({\"data\": output}, fp, indent=4)"
   ]
  },
  {
   "cell_type": "code",
   "execution_count": null,
   "id": "19ae8a4a",
   "metadata": {},
   "outputs": [],
   "source": []
  }
 ],
 "metadata": {
  "kernelspec": {
   "display_name": "Python 3 (ipykernel)",
   "language": "python",
   "name": "python3"
  },
  "language_info": {
   "codemirror_mode": {
    "name": "ipython",
    "version": 3
   },
   "file_extension": ".py",
   "mimetype": "text/x-python",
   "name": "python",
   "nbconvert_exporter": "python",
   "pygments_lexer": "ipython3",
   "version": "3.7.11"
  }
 },
 "nbformat": 4,
 "nbformat_minor": 5
}

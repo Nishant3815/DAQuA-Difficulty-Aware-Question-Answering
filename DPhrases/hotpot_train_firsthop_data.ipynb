{
 "cells": [
  {
   "cell_type": "code",
   "execution_count": 1,
   "id": "d856a479",
   "metadata": {},
   "outputs": [],
   "source": [
    "import json"
   ]
  },
  {
   "cell_type": "code",
   "execution_count": 16,
   "id": "b51da53d",
   "metadata": {},
   "outputs": [
    {
     "name": "stdout",
     "output_type": "stream",
     "text": [
      "dev_retrieval_b50_k50_sp.json  hotpot_test_fullwiki_v1.json\r\n",
      "dev_retrieval_top100_sp.json   hotpot_train_firsthop.json\r\n",
      "hotpot_dev_fullwiki_v1.json    hotpot_train_v1.1.json\r\n",
      "hotpot_dev_with_neg_v0.json    hotpot_train_with_neg_v0.json\r\n",
      "hotpot_qas_val.json\t       train_retrieval_b100_k100_sp.json\r\n"
     ]
    }
   ],
   "source": [
    "!ls ../multihop_dense_retrieval/data/hotpot/hotpot_qas_val.json"
   ]
  },
  {
   "cell_type": "code",
   "execution_count": 2,
   "id": "fe94a7a8",
   "metadata": {},
   "outputs": [],
   "source": [
    "SPLIT = \"train\""
   ]
  },
  {
   "cell_type": "code",
   "execution_count": 7,
   "id": "b55841dc",
   "metadata": {},
   "outputs": [],
   "source": [
    "# Read training data\n",
    "filepaths = {\n",
    "    'train': {\n",
    "        'original': '../multihop_dense_retrieval/data/hotpot/hotpot_train_v1.1.json',\n",
    "        'mdr': '../multihop_dense_retrieval/data/hotpot/hotpot_train_with_neg_v0.json'\n",
    "    },\n",
    "    'dev': {\n",
    "        'original': '../multihop_dense_retrieval/data/hotpot/hotpot_dev_fullwiki_v1.json',\n",
    "        'mdr': '../multihop_dense_retrieval/data/hotpot/hotpot_dev_with_neg_v0.json'\n",
    "    }\n",
    "}\n",
    "\n",
    "\n",
    "fp_hotpot_mdr = filepaths[SPLIT]['mdr']\n",
    "fp_hotpot_original = filepaths[SPLIT]['original']\n",
    "\n",
    "hotpot_mdr = []\n",
    "with open(fp_hotpot_mdr, 'r') as handle:\n",
    "    lines = handle.readlines()\n",
    "    for l in lines:\n",
    "        hotpot_mdr.append(json.loads(l))\n",
    "    \n",
    "with open(fp_hotpot_original, 'r') as handle:\n",
    "    hotpot_orig = json.load(handle)"
   ]
  },
  {
   "cell_type": "code",
   "execution_count": 8,
   "id": "e10855a6",
   "metadata": {},
   "outputs": [
    {
     "data": {
      "text/plain": [
       "7405"
      ]
     },
     "execution_count": 8,
     "metadata": {},
     "output_type": "execute_result"
    }
   ],
   "source": [
    "# Training data length\n",
    "len(hotpot_orig)"
   ]
  },
  {
   "cell_type": "code",
   "execution_count": 9,
   "id": "41dd2209",
   "metadata": {},
   "outputs": [
    {
     "data": {
      "text/plain": [
       "{'_id': '5a8b57f25542995d1e6f1371',\n",
       " 'answer': 'yes',\n",
       " 'question': 'Were Scott Derrickson and Ed Wood of the same nationality?',\n",
       " 'supporting_facts': [['Scott Derrickson', 0], ['Ed Wood', 0]],\n",
       " 'context': [['Adam Collis',\n",
       "   ['Adam Collis is an American filmmaker and actor.',\n",
       "    ' He attended the Duke University from 1986 to 1990 and the University of California, Los Angeles from 2007 to 2010.',\n",
       "    ' He also studied cinema at the University of Southern California from 1991 to 1997.',\n",
       "    ' Collis first work was the assistant director for the Scott Derrickson\\'s short \"Love in the Ruins\" (1995).',\n",
       "    ' In 1998, he played \"Crankshaft\" in Eric Koyanagi\\'s \"Hundred Percent\".']],\n",
       "  ['Ed Wood (film)',\n",
       "   ['Ed Wood is a 1994 American biographical period comedy-drama film directed and produced by Tim Burton, and starring Johnny Depp as cult filmmaker Ed Wood.',\n",
       "    \" The film concerns the period in Wood's life when he made his best-known films as well as his relationship with actor Bela Lugosi, played by Martin Landau.\",\n",
       "    ' Sarah Jessica Parker, Patricia Arquette, Jeffrey Jones, Lisa Marie, and Bill Murray are among the supporting cast.']],\n",
       "  ['Tyler Bates',\n",
       "   ['Tyler Bates (born June 5, 1965) is an American musician, music producer, and composer for films, television, and video games.',\n",
       "    ' Much of his work is in the action and horror film genres, with films like \"Dawn of the Dead, 300, Sucker Punch,\" and \"John Wick.\"',\n",
       "    ' He has collaborated with directors like Zack Snyder, Rob Zombie, Neil Marshall, William Friedkin, Scott Derrickson, and James Gunn.',\n",
       "    ' With Gunn, he has scored every one of the director\\'s films; including \"Guardians of the Galaxy\", which became one of the highest grossing domestic movies of 2014, and its 2017 sequel.',\n",
       "    ' In addition, he is also the lead guitarist of the American rock band Marilyn Manson, and produced its albums \"The Pale Emperor\" and \"Heaven Upside Down\".']],\n",
       "  ['Doctor Strange (2016 film)',\n",
       "   ['Doctor Strange is a 2016 American superhero film based on the Marvel Comics character of the same name, produced by Marvel Studios and distributed by Walt Disney Studios Motion Pictures.',\n",
       "    ' It is the fourteenth film of the Marvel Cinematic Universe (MCU).',\n",
       "    ' The film was directed by Scott Derrickson, who wrote it with Jon Spaihts and C. Robert Cargill, and stars Benedict Cumberbatch as Stephen Strange, along with Chiwetel Ejiofor, Rachel McAdams, Benedict Wong, Michael Stuhlbarg, Benjamin Bratt, Scott Adkins, Mads Mikkelsen, and Tilda Swinton.',\n",
       "    ' In \"Doctor Strange\", surgeon Strange learns the mystic arts after a career-ending car accident.']],\n",
       "  ['Hellraiser: Inferno',\n",
       "   ['Hellraiser: Inferno (also known as Hellraiser V: Inferno) is a 2000 American horror film.',\n",
       "    ' It is the fifth installment in the \"Hellraiser\" series and the first \"Hellraiser\" film to go straight-to-DVD.',\n",
       "    ' It was directed by Scott Derrickson and released on October 3, 2000.',\n",
       "    \" The film concerns a corrupt detective who discovers Lemarchand's box at a crime scene.\",\n",
       "    \" The film's reviews were mixed.\"]],\n",
       "  ['Sinister (film)',\n",
       "   ['Sinister is a 2012 supernatural horror film directed by Scott Derrickson and written by Derrickson and C. Robert Cargill.',\n",
       "    ' It stars Ethan Hawke as fictional true-crime writer Ellison Oswalt who discovers a box of home movies in his attic that puts his family in danger.']],\n",
       "  ['Deliver Us from Evil (2014 film)',\n",
       "   ['Deliver Us from Evil is a 2014 American supernatural horror film directed by Scott Derrickson and produced by Jerry Bruckheimer.',\n",
       "    ' The film is officially based on a 2001 non-fiction book entitled \"Beware the Night\" by Ralph Sarchie and Lisa Collier Cool, and its marketing campaign highlighted that it was \"inspired by actual accounts\".',\n",
       "    ' The film stars Eric Bana, Édgar Ramírez, Sean Harris, Olivia Munn, and Joel McHale in the main roles and was released on July 2, 2014.']],\n",
       "  ['Woodson, Arkansas',\n",
       "   ['Woodson is a census-designated place (CDP) in Pulaski County, Arkansas, in the United States.',\n",
       "    ' Its population was 403 at the 2010 census.',\n",
       "    ' It is part of the Little Rock–North Little Rock–Conway Metropolitan Statistical Area.',\n",
       "    ' Woodson and its accompanying Woodson Lake and Wood Hollow are the namesake for Ed Wood Sr., a prominent plantation owner, trader, and businessman at the turn of the 20th century.',\n",
       "    ' Woodson is adjacent to the Wood Plantation, the largest of the plantations own by Ed Wood Sr.']],\n",
       "  ['Conrad Brooks',\n",
       "   ['Conrad Brooks (born Conrad Biedrzycki on January 3, 1931 in Baltimore, Maryland) is an American actor.',\n",
       "    ' He moved to Hollywood, California in 1948 to pursue a career in acting.',\n",
       "    ' He got his start in movies appearing in Ed Wood films such as \"Plan 9 from Outer Space\", \"Glen or Glenda\", and \"Jail Bait.\"',\n",
       "    ' He took a break from acting during the 1960s and 1970s but due to the ongoing interest in the films of Ed Wood, he reemerged in the 1980s and has become a prolific actor.',\n",
       "    ' He also has since gone on to write, produce and direct several films.']],\n",
       "  ['The Exorcism of Emily Rose',\n",
       "   ['The Exorcism of Emily Rose is a 2005 American legal drama horror film directed by Scott Derrickson and starring Laura Linney and Tom Wilkinson.',\n",
       "    ' The film is loosely based on the story of Anneliese Michel and follows a self-proclaimed agnostic who acts as defense counsel (Linney) representing a parish priest (Wilkinson), accused by the state of negligent homicide after he performed an exorcism.']]],\n",
       " 'type': 'comparison',\n",
       " 'level': 'hard'}"
      ]
     },
     "execution_count": 9,
     "metadata": {},
     "output_type": "execute_result"
    }
   ],
   "source": [
    "# Example training object\n",
    "hotpot_orig[0]"
   ]
  },
  {
   "cell_type": "code",
   "execution_count": 13,
   "id": "59b1e4d8",
   "metadata": {},
   "outputs": [
    {
     "name": "stdout",
     "output_type": "stream",
     "text": [
      "{'_id': '5a8b57f25542995d1e6f1371', 'answer': 'yes', 'question': 'Were Scott Derrickson and Ed Wood of the same nationality?', 'supporting_facts': [['Scott Derrickson', 0], ['Ed Wood', 0]], 'context': [['Adam Collis', ['Adam Collis is an American filmmaker and actor.', ' He attended the Duke University from 1986 to 1990 and the University of California, Los Angeles from 2007 to 2010.', ' He also studied cinema at the University of Southern California from 1991 to 1997.', ' Collis first work was the assistant director for the Scott Derrickson\\'s short \"Love in the Ruins\" (1995).', ' In 1998, he played \"Crankshaft\" in Eric Koyanagi\\'s \"Hundred Percent\".']], ['Ed Wood (film)', ['Ed Wood is a 1994 American biographical period comedy-drama film directed and produced by Tim Burton, and starring Johnny Depp as cult filmmaker Ed Wood.', \" The film concerns the period in Wood's life when he made his best-known films as well as his relationship with actor Bela Lugosi, played by Martin Landau.\", ' Sarah Jessica Parker, Patricia Arquette, Jeffrey Jones, Lisa Marie, and Bill Murray are among the supporting cast.']], ['Tyler Bates', ['Tyler Bates (born June 5, 1965) is an American musician, music producer, and composer for films, television, and video games.', ' Much of his work is in the action and horror film genres, with films like \"Dawn of the Dead, 300, Sucker Punch,\" and \"John Wick.\"', ' He has collaborated with directors like Zack Snyder, Rob Zombie, Neil Marshall, William Friedkin, Scott Derrickson, and James Gunn.', ' With Gunn, he has scored every one of the director\\'s films; including \"Guardians of the Galaxy\", which became one of the highest grossing domestic movies of 2014, and its 2017 sequel.', ' In addition, he is also the lead guitarist of the American rock band Marilyn Manson, and produced its albums \"The Pale Emperor\" and \"Heaven Upside Down\".']], ['Doctor Strange (2016 film)', ['Doctor Strange is a 2016 American superhero film based on the Marvel Comics character of the same name, produced by Marvel Studios and distributed by Walt Disney Studios Motion Pictures.', ' It is the fourteenth film of the Marvel Cinematic Universe (MCU).', ' The film was directed by Scott Derrickson, who wrote it with Jon Spaihts and C. Robert Cargill, and stars Benedict Cumberbatch as Stephen Strange, along with Chiwetel Ejiofor, Rachel McAdams, Benedict Wong, Michael Stuhlbarg, Benjamin Bratt, Scott Adkins, Mads Mikkelsen, and Tilda Swinton.', ' In \"Doctor Strange\", surgeon Strange learns the mystic arts after a career-ending car accident.']], ['Hellraiser: Inferno', ['Hellraiser: Inferno (also known as Hellraiser V: Inferno) is a 2000 American horror film.', ' It is the fifth installment in the \"Hellraiser\" series and the first \"Hellraiser\" film to go straight-to-DVD.', ' It was directed by Scott Derrickson and released on October 3, 2000.', \" The film concerns a corrupt detective who discovers Lemarchand's box at a crime scene.\", \" The film's reviews were mixed.\"]], ['Sinister (film)', ['Sinister is a 2012 supernatural horror film directed by Scott Derrickson and written by Derrickson and C. Robert Cargill.', ' It stars Ethan Hawke as fictional true-crime writer Ellison Oswalt who discovers a box of home movies in his attic that puts his family in danger.']], ['Deliver Us from Evil (2014 film)', ['Deliver Us from Evil is a 2014 American supernatural horror film directed by Scott Derrickson and produced by Jerry Bruckheimer.', ' The film is officially based on a 2001 non-fiction book entitled \"Beware the Night\" by Ralph Sarchie and Lisa Collier Cool, and its marketing campaign highlighted that it was \"inspired by actual accounts\".', ' The film stars Eric Bana, Édgar Ramírez, Sean Harris, Olivia Munn, and Joel McHale in the main roles and was released on July 2, 2014.']], ['Woodson, Arkansas', ['Woodson is a census-designated place (CDP) in Pulaski County, Arkansas, in the United States.', ' Its population was 403 at the 2010 census.', ' It is part of the Little Rock–North Little Rock–Conway Metropolitan Statistical Area.', ' Woodson and its accompanying Woodson Lake and Wood Hollow are the namesake for Ed Wood Sr., a prominent plantation owner, trader, and businessman at the turn of the 20th century.', ' Woodson is adjacent to the Wood Plantation, the largest of the plantations own by Ed Wood Sr.']], ['Conrad Brooks', ['Conrad Brooks (born Conrad Biedrzycki on January 3, 1931 in Baltimore, Maryland) is an American actor.', ' He moved to Hollywood, California in 1948 to pursue a career in acting.', ' He got his start in movies appearing in Ed Wood films such as \"Plan 9 from Outer Space\", \"Glen or Glenda\", and \"Jail Bait.\"', ' He took a break from acting during the 1960s and 1970s but due to the ongoing interest in the films of Ed Wood, he reemerged in the 1980s and has become a prolific actor.', ' He also has since gone on to write, produce and direct several films.']], ['The Exorcism of Emily Rose', ['The Exorcism of Emily Rose is a 2005 American legal drama horror film directed by Scott Derrickson and starring Laura Linney and Tom Wilkinson.', ' The film is loosely based on the story of Anneliese Michel and follows a self-proclaimed agnostic who acts as defense counsel (Linney) representing a parish priest (Wilkinson), accused by the state of negligent homicide after he performed an exorcism.']]], 'type': 'comparison', 'level': 'hard'}\n",
      "0\n",
      "0\n"
     ]
    }
   ],
   "source": [
    "# Count number of questions for which the context is not available for the SUP sentences\n",
    "\n",
    "count_one, count_both, not_two = 0,0,0\n",
    "for h in hotpot_orig:\n",
    "    sup_set = set()\n",
    "    for sup in h['supporting_facts']:\n",
    "        sup_set.add(sup[0])\n",
    "    context_set = set()\n",
    "    for context in h['context']:\n",
    "        context_set.add(context[0])\n",
    "    if len(sup_set.intersection(context_set)) == 0:\n",
    "        print(h)\n",
    "        break\n",
    "        count_both += 1\n",
    "    if len(sup_set) <2:\n",
    "        not_two += 1\n",
    "print(count_both)\n",
    "print(not_two)"
   ]
  },
  {
   "cell_type": "code",
   "execution_count": 11,
   "id": "1daa5ce7",
   "metadata": {},
   "outputs": [
    {
     "data": {
      "text/plain": [
       "7405"
      ]
     },
     "execution_count": 11,
     "metadata": {},
     "output_type": "execute_result"
    }
   ],
   "source": [
    "# Check if the MDR-processed hotpot data is the same length\n",
    "len(hotpot_mdr)"
   ]
  },
  {
   "cell_type": "code",
   "execution_count": 14,
   "id": "455acaa8",
   "metadata": {
    "scrolled": false
   },
   "outputs": [
    {
     "data": {
      "text/plain": [
       "{'question': 'Were Scott Derrickson and Ed Wood of the same nationality?',\n",
       " 'answers': ['yes'],\n",
       " 'type': 'comparison',\n",
       " 'pos_paras': [{'title': 'Ed Wood',\n",
       "   'text': 'Edward Davis Wood Jr. (October 10, 1924\\xa0– December 10, 1978) was an American filmmaker, actor, writer, producer, and director.'},\n",
       "  {'title': 'Scott Derrickson',\n",
       "   'text': 'Scott Derrickson (born July 16, 1966) is an American director, screenwriter and producer. He lives in Los Angeles, California. He is best known for directing horror films such as \"Sinister\", \"The Exorcism of Emily Rose\", and \"Deliver Us From Evil\", as well as the 2016 Marvel Cinematic Universe installment, \"Doctor Strange.\"'}],\n",
       " 'neg_paras': [{'title': 'That Darn Cat (1997 film)',\n",
       "   'text': 'That Darn Cat is a 1997 American mystery comedy film starring Christina Ricci and Doug E. Doug. It is a remake of the 1965 film \"That Darn Cat!\", which in turn was based on the book \"Undercover Cat\" by Gordon and Mildred Gordon. It is directed by British TV veteran Bob Spiers (most famous for \"Fawlty Towers\", as well as \"Spice World\") and written by Scott Alexander and Larry Karaszewski, best known for \"Ed Wood\" and the first two \"Problem Child\" films.'},\n",
       "  {'title': 'Patricia Arquette',\n",
       "   'text': 'Patricia Arquette (born April 8, 1968) is an American actor. She made her film debut in \"\" (1987) at the age of eighteen. Her notable films include Tony Scott\\'s \"True Romance\" (1993), Tim Burton\\'s \"Ed Wood\" (1994), David O. Russell\\'s \"Flirting with Disaster\" (1996), David Lynch\\'s \"Lost Highway\" (1997), Stephen Frears\\'s \"The Hi-Lo Country\" (1998), Martin Scorsese\\'s \"Bringing Out the Dead\" (1999), and Andrew Davis\\'s \"Holes\" (2003).'},\n",
       "  {'title': 'Woodson, Arkansas',\n",
       "   'text': 'Woodson is a census-designated place (CDP) in Pulaski County, Arkansas, in the United States. Its population was 403 at the 2010 census. It is part of the Little Rock–North Little Rock–Conway Metropolitan Statistical Area. Woodson and its accompanying Woodson Lake and Wood Hollow are the namesake for Ed Wood Sr., a prominent plantation owner, trader, and businessman at the turn of the 20th century. Woodson is adjacent to the Wood Plantation, the largest of the plantations own by Ed Wood Sr.'},\n",
       "  {'title': 'Sinister (film)',\n",
       "   'text': 'Sinister is a 2012 supernatural horror film directed by Scott Derrickson and written by Derrickson and C. Robert Cargill. It stars Ethan Hawke as fictional true-crime writer Ellison Oswalt who discovers a box of home movies in his attic that puts his family in danger.'},\n",
       "  {'title': 'Ed Wood (film)',\n",
       "   'text': \"Ed Wood is a 1994 American biographical period comedy-drama film directed and produced by Tim Burton, and starring Johnny Depp as cult filmmaker Ed Wood. The film concerns the period in Wood's life when he made his best-known films as well as his relationship with actor Bela Lugosi, played by Martin Landau. Sarah Jessica Parker, Patricia Arquette, Jeffrey Jones, Lisa Marie, and Bill Murray are among the supporting cast.\"},\n",
       "  {'title': 'Hyperfutura',\n",
       "   'text': \"Hyperfutura is a 2013 science fiction film from American filmmaker James O'Brien, starring Eric Kopatz, Karen Corona, Gregory Kiem, Scott Donovan, Celine Brigitte, Alysse Cobb, Lionel Heredia, Gary Kohn, Edward Romero and William Moore. It draws elements from the mashup video movement, Ed Wood, time travel and transhumanism, and pays homage to such counterculture works as The Church of the SubGenius and the fictional experimental filmmaker James Orin Incandenza from the David Foster Wallace novel Infinite Jest. Utilizing both stock footage and a live action narrative, it takes the viewer on a psychedelic voyage into the subconscious of a hybrid robot human sent back in time.\"},\n",
       "  {'title': 'Conrad Brooks',\n",
       "   'text': 'Conrad Brooks (born Conrad Biedrzycki on January 3, 1931 in Baltimore, Maryland) is an American actor. He moved to Hollywood, California in 1948 to pursue a career in acting. He got his start in movies appearing in Ed Wood films such as \"Plan 9 from Outer Space\", \"Glen or Glenda\", and \"Jail Bait.\" He took a break from acting during the 1960s and 1970s but due to the ongoing interest in the films of Ed Wood, he reemerged in the 1980s and has become a prolific actor. He also has since gone on to write, produce and direct several films.'},\n",
       "  {'title': 'Glen or Glenda',\n",
       "   'text': 'Glen or Glenda is a 1953 American drama film written, directed by and starring Ed Wood (credited in his starring role as \"Daniel Davis\"), and featuring Bela Lugosi and Wood\\'s then-girlfriend Dolores Fuller.'},\n",
       "  {'title': 'Final Curtain (film)',\n",
       "   'text': 'Final Curtain was a television pilot written and directed by Ed Wood in 1957. It starred Duke Moore as an actor wandering an empty theater after dark, where he is haunted by creepy sounds and eerie sights. The film is narrated by Dudley Manlove. Both Moore and Manlove also appear in Wood\\'s cult film \"Plan 9 from Outer Space\". Wood had hoped to use the film as the pilot for a television series he intended to produce called \"Portraits of Terror.\"'},\n",
       "  {'title': 'Doctor Strange (2016 film)',\n",
       "   'text': 'Doctor Strange is a 2016 American superhero film based on the Marvel Comics character of the same name, produced by Marvel Studios and distributed by Walt Disney Studios Motion Pictures. It is the fourteenth film of the Marvel Cinematic Universe (MCU). The film was directed by Scott Derrickson, who wrote it with Jon Spaihts and C. Robert Cargill, and stars Benedict Cumberbatch as Stephen Strange, along with Chiwetel Ejiofor, Rachel McAdams, Benedict Wong, Michael Stuhlbarg, Benjamin Bratt, Scott Adkins, Mads Mikkelsen, and Tilda Swinton. In \"Doctor Strange\", surgeon Strange learns the mystic arts after a career-ending car accident.'},\n",
       "  {'title': 'Gregory Walcott',\n",
       "   'text': 'Gregory Walcott (January 13, 1928 – March 20, 2015) was an American television and film actor. Although he had roles in many successful Hollywood films and television series, he is perhaps best known for having appeared in the 1994 film \"Ed Wood\" and Wood\\'s cult classic \"Plan 9 from Outer Space\" from 1959.'},\n",
       "  {'title': 'Anatomy of a Psycho',\n",
       "   'text': 'Anatomy of a Psycho (1961) is an American film directed by Boris Petroff (as Brooke L. Peters). Ed Wood reportedly contributed to Jane Mann\\'s screenplay as Larry Lee. The film uses music originally used for Wood\\'s \"Plan 9 from Outer Space\" (1959). Ronnie Burns, adopted son of George Burns and Gracie Allen, plays the lead.'},\n",
       "  {'title': 'Hellraiser: Inferno',\n",
       "   'text': 'Hellraiser: Inferno (also known as Hellraiser V: Inferno) is a 2000 American horror film. It is the fifth installment in the \"Hellraiser\" series and the first \"Hellraiser\" film to go straight-to-DVD. It was directed by Scott Derrickson and released on October 3, 2000. The film concerns a corrupt detective who discovers Lemarchand\\'s box at a crime scene. The film\\'s reviews were mixed.'},\n",
       "  {'title': 'Sinister 2',\n",
       "   'text': 'Sinister 2 is a 2015 American supernatural horror film directed by Ciaran Foy and written by Scott Derrickson and C. Robert Cargill. The sequel to the 2012 film \"Sinister\", the film stars James Ransone, reprising his role from the original film, and Shannyn Sossamon as a mother whose sons are tormented by the ghostly children taken by Bughuul at their rural farmhouse.'},\n",
       "  {'title': 'The Exorcism of Emily Rose',\n",
       "   'text': 'The Exorcism of Emily Rose is a 2005 American legal drama horror film directed by Scott Derrickson and starring Laura Linney and Tom Wilkinson. The film is loosely based on the story of Anneliese Michel and follows a self-proclaimed agnostic who acts as defense counsel (Linney) representing a parish priest (Wilkinson), accused by the state of negligent homicide after he performed an exorcism.'},\n",
       "  {'title': 'Adam Collis',\n",
       "   'text': 'Adam Collis is an American filmmaker and actor. He attended the Duke University from 1986 to 1990 and the University of California, Los Angeles from 2007 to 2010. He also studied cinema at the University of Southern California from 1991 to 1997. Collis first work was the assistant director for the Scott Derrickson\\'s short \"Love in the Ruins\" (1995). In 1998, he played \"Crankshaft\" in Eric Koyanagi\\'s \"Hundred Percent\".'},\n",
       "  {'title': 'Dolores Fuller',\n",
       "   'text': 'Dolores Agnes Fuller (née Eble; March 10, 1923 – May 9, 2011) was an American actress and songwriter best known as the one-time girlfriend of the low-budget film director Ed Wood. She played the protagonist\\'s girlfriend in \"Glen or Glenda\", co-starred in Wood\\'s \"Jail Bait\", and had a minor role in his \"Bride of the Monster\". Later, Elvis Presley recorded a number of her songs written for his films.'},\n",
       "  {'title': 'Jail Bait (1954 film)',\n",
       "   'text': 'Jail Bait (also known as Hidden Face) is a 1954 American film noir and crime film directed by Ed Wood, with a screenplay by Wood and Alex Gordon. The film stars Clancy Malone as the delinquent son of a famous doctor, and his involvement with a dangerous criminal. Famed bodybuilder Steve Reeves made his first major screen appearance in the film. The film belongs to the film noir genre, and contains themes typical of it such as plastic surgery and identity theft.'},\n",
       "  {'title': 'Duke Moore',\n",
       "   'text': 'Duke Moore, (July 15, 1913 as James Moore – November 16, 1976), was an American actor who has the distinction of spending his entire on-screen career in productions by Ed Wood.'}],\n",
       " '_id': '5a8b57f25542995d1e6f1371'}"
      ]
     },
     "execution_count": 14,
     "metadata": {},
     "output_type": "execute_result"
    }
   ],
   "source": [
    "# Example object in MDR hotpot\n",
    "hotpot_mdr[0]"
   ]
  },
  {
   "cell_type": "code",
   "execution_count": 29,
   "id": "3a4af42d",
   "metadata": {},
   "outputs": [],
   "source": [
    "def extract_sentences(sup_idx_list, context_list, doc_title=None):\n",
    "    return_obj = []\n",
    "    sup = {}\n",
    "    for s in sup_idx_list:\n",
    "        if s[0] not in sup:\n",
    "            sup[s[0]] = []\n",
    "        sup[s[0]].append(s[1])\n",
    "    for c in context_list:\n",
    "        if c[0] not in sup:\n",
    "            continue\n",
    "        if doc_title is not None and c[0] != doc_title:\n",
    "            continue\n",
    "        for i in sup[c[0]]:\n",
    "            try:\n",
    "                return_obj.append(c[1][i])\n",
    "            except:\n",
    "                print(\"IndexError: ignoring\")\n",
    "                print(c[0])\n",
    "                print(c[1])\n",
    "                print(sup[c[0]])\n",
    "    return return_obj"
   ]
  },
  {
   "cell_type": "code",
   "execution_count": 30,
   "id": "51878c94",
   "metadata": {},
   "outputs": [
    {
     "name": "stdout",
     "output_type": "stream",
     "text": [
      "IndexError: ignoring\n",
      "Minoru Suzuki\n",
      "['Minoru Suzuki (鈴木 実 , Suzuki Minoru , ring name: 鈴木 みのる) (born June 17, 1968) is a Japanese professional wrestler and mixed martial artist who is currently working for New Japan Pro Wrestling (NJPW) as a freelancer.', ' He is the current NEVER Openweight Champion in his first reign.']\n",
      "[0, 1, 2]\n",
      "IndexError: ignoring\n",
      "Khady Sylla\n",
      "['Khady Sylla (Dakar, March 27, 1963 – Dakar, October 8, 2013) was a Senegalese writer of two novels, short work, and film.']\n",
      "[0, 2]\n",
      "IndexError: ignoring\n",
      "Harry Styles\n",
      "['Harry Edward Styles (born 1 February 1994) is an English singer, songwriter, and actor.', ' He made his debut as a singer with his band White Eskimo, who performed locally in Holmes Chapel, Cheshire.', ' Styles rose to stardom as a member of the boy band One Direction, formed in 2010 through the British music competition series \"The X Factor\".', ' One Direction has released five albums, performed four worldwide tours, and won several awards.']\n",
      "[0, 3, 4]\n",
      "IndexError: ignoring\n",
      "William T. Anderson\n",
      "['William T. Anderson (1840 – October 26, 1864)—known as \"Bloody Bill\" Anderson—was one of the deadliest and most brutal pro-Confederate guerrilla leaders in the American Civil War.', ' Anderson led a band that targeted Union loyalists and Federal soldiers in Missouri and Kansas.']\n",
      "[1, 2]\n",
      "IndexError: ignoring\n",
      "Savannah cat\n",
      "['The Savannah is a hybrid cat breed.', ' It is a cross between a serval and a domestic cat.']\n",
      "[0, 2]\n",
      "IndexError: ignoring\n",
      "Albany and Schenectady Railroad\n",
      "['The Mohawk & Hudson Railroad was the first railroad built in the State of New York and one of the first railroads in the United States.', ' It was so-named because it linked the Mohawk River at Schenectady with the Hudson River at Albany.', ' It was conceived as a means of allowing Erie Canal passengers to quickly bypass the circuitous Cohoes Falls via steam powered trains.']\n",
      "[1, 30]\n",
      "IndexError: ignoring\n",
      "Buprenorphine\n",
      "['Buprenorphine, sold under the brand name Subutex, among others, is an opioid used to treat opioid addiction, moderate acute pain and moderate chronic pain.', ' The combination buprenorphine/naloxone is also used for opioid addiction.']\n",
      "[0, 7]\n",
      "IndexError: ignoring\n",
      "Jan Hooks\n",
      "['Janet Vivian \"Jan\" Hooks (April 23, 1957 – October 9, 2014) was an American actress and comedian best known for her work on \"Saturday Night Live\", where she was a repertory player from 1986–91, and continued making cameo appearances until 1994.', ' Her subsequent work included a regular role on the final two seasons of \"Designing Women\", a recurring role on \"3rd Rock from the Sun\" and a number of other roles in film and television.']\n",
      "[0, 8]\n",
      "IndexError: ignoring\n",
      "Minister of Defence (India)\n",
      "['The Minister of Defence is the head of the Ministry of Defence of the Government of India.', ' They are often assisted by a Minister of State for Defence and less-commonly, the lower-ranked Deputy Minister of Defence.', ' The defence minister additionally serves as President of the Institute for Defence Studies and Analyses, and as Chancellor of the Defence Institute of Advanced Technology and of the National Defence University.']\n",
      "[0, 11]\n"
     ]
    }
   ],
   "source": [
    "output = []\n",
    "\n",
    "for i in range(len(hotpot_orig)):\n",
    "    orig_obj = hotpot_orig[i]\n",
    "    mdr_obj = hotpot_mdr[i]\n",
    "    q_obj = {\n",
    "        \"id\": orig_obj[\"_id\"],\n",
    "        \"question\": orig_obj[\"question\"],\n",
    "        \"level\": orig_obj[\"level\"],\n",
    "        \"type\": orig_obj[\"type\"],\n",
    "        \"answers\": [],\n",
    "        \"final_answer\": orig_obj[\"answer\"],\n",
    "    }\n",
    "    if orig_obj[\"type\"] == \"comparison\":\n",
    "        # Fetch all SUP sentences into \"answers\"\n",
    "        q_obj[\"answers\"] = extract_sentences(orig_obj[\"supporting_facts\"], orig_obj[\"context\"])\n",
    "    else:\n",
    "        # Fetch only the first-hop SUP sentences into \"answers\"\n",
    "        for sup in orig_obj[\"supporting_facts\"]:\n",
    "            if sup[0] != mdr_obj[\"bridge\"]:\n",
    "                q_obj[\"answers\"] = extract_sentences(orig_obj[\"supporting_facts\"], orig_obj[\"context\"], sup[0])\n",
    "                break\n",
    "    output.append(q_obj)"
   ]
  },
  {
   "cell_type": "code",
   "execution_count": 33,
   "id": "399c10dd",
   "metadata": {},
   "outputs": [
    {
     "data": {
      "text/plain": [
       "{'id': '5ab698885542995eadef002a',\n",
       " 'question': 'American politician Joe Heck ran unsuccessfully against Democrat Catherine Cortez Masto, a woman who previously served as the 32nd Attorney General of where?',\n",
       " 'level': 'easy',\n",
       " 'type': 'bridge',\n",
       " 'answers': [\"Joseph John “Joe” Heck (born October 30, 1961) is an American politician, physician, and U.S. Army Brigadier General who had served as the U.S. Representative for Nevada's 3rd congressional district from 2011 to 2017.\",\n",
       "  ' He ran unsuccessfully against Democrat Catherine Cortez Masto in the general election for the open Nevada United States Senate seat in 2016.'],\n",
       " 'final_answer': 'Nevada'}"
      ]
     },
     "execution_count": 33,
     "metadata": {},
     "output_type": "execute_result"
    }
   ],
   "source": [
    "output[19]"
   ]
  },
  {
   "cell_type": "code",
   "execution_count": 35,
   "id": "7a0b1373",
   "metadata": {},
   "outputs": [],
   "source": [
    "# Store results to disk\n",
    "\n",
    "output_fp = f\"../multihop_dense_retrieval/data/hotpot/hotpot_{SPLIT}_firsthop.json\"\n",
    "with open(output_fp, 'w') as fp:\n",
    "    json.dump({\"data\": output}, fp, indent=4)"
   ]
  },
  {
   "cell_type": "code",
   "execution_count": null,
   "id": "19ae8a4a",
   "metadata": {},
   "outputs": [],
   "source": []
  }
 ],
 "metadata": {
  "kernelspec": {
   "display_name": "Python 3 (ipykernel)",
   "language": "python",
   "name": "python3"
  },
  "language_info": {
   "codemirror_mode": {
    "name": "ipython",
    "version": 3
   },
   "file_extension": ".py",
   "mimetype": "text/x-python",
   "name": "python",
   "nbconvert_exporter": "python",
   "pygments_lexer": "ipython3",
   "version": "3.7.11"
  }
 },
 "nbformat": 4,
 "nbformat_minor": 5
}


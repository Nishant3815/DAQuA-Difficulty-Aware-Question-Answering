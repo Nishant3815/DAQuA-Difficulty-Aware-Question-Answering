{
 "cells": [
  {
   "cell_type": "code",
   "execution_count": 1,
   "id": "d856a479",
   "metadata": {},
   "outputs": [],
   "source": [
    "import json"
   ]
  },
  {
   "cell_type": "code",
   "execution_count": 3,
   "id": "b51da53d",
   "metadata": {},
   "outputs": [
    {
     "name": "stdout",
     "output_type": "stream",
     "text": [
      "dev_retrieval_b50_k50_sp.json  hotpot_test_fullwiki_v1.json\r\n",
      "dev_retrieval_top100_sp.json   hotpot_train_firsthop.json\r\n",
      "hotpot_dev_firsthop.json       hotpot_train_v1.1.json\r\n",
      "hotpot_dev_fullwiki_v1.json    hotpot_train_with_neg_v0.json\r\n",
      "hotpot_dev_with_neg_v0.json    train_retrieval_b100_k100_sp.json\r\n",
      "hotpot_qas_val.json\r\n"
     ]
    }
   ],
   "source": [
    "!ls ../multihop_dense_retrieval/data/hotpot/"
   ]
  },
  {
   "cell_type": "code",
   "execution_count": 4,
   "id": "fe94a7a8",
   "metadata": {},
   "outputs": [],
   "source": [
    "SPLIT = \"train\""
   ]
  },
  {
   "cell_type": "code",
   "execution_count": 5,
   "id": "b55841dc",
   "metadata": {},
   "outputs": [],
   "source": [
    "# Read training data\n",
    "fp_hotpot_mdr = '../multihop_dense_retrieval/data/hotpot/hotpot_train_with_neg_v0.json'\n",
    "fp_hotpot_original = '../multihop_dense_retrieval/data/hotpot/hotpot_train_v1.1.json'\n",
    "\n",
    "hotpot_mdr = []\n",
    "with open(fp_hotpot_mdr, 'r') as handle:\n",
    "    lines = handle.readlines()\n",
    "    for l in lines:\n",
    "        hotpot_mdr.append(json.loads(l))\n",
    "    \n",
    "with open(fp_hotpot_original, 'r') as handle:\n",
    "    hotpot_orig = json.load(handle)"
   ]
  },
  {
   "cell_type": "code",
   "execution_count": 6,
   "id": "e10855a6",
   "metadata": {},
   "outputs": [
    {
     "data": {
      "text/plain": [
       "90447"
      ]
     },
     "execution_count": 6,
     "metadata": {},
     "output_type": "execute_result"
    }
   ],
   "source": [
    "# Training data length\n",
    "len(hotpot_orig)"
   ]
  },
  {
   "cell_type": "code",
   "execution_count": 7,
   "id": "41dd2209",
   "metadata": {
    "scrolled": false
   },
   "outputs": [
    {
     "data": {
      "text/plain": [
       "{'supporting_facts': [[\"Arthur's Magazine\", 0], ['First for Women', 0]],\n",
       " 'level': 'medium',\n",
       " 'question': \"Which magazine was started first Arthur's Magazine or First for Women?\",\n",
       " 'context': [['Radio City (Indian radio station)',\n",
       "   [\"Radio City is India's first private FM radio station and was started on 3 July 2001.\",\n",
       "    ' It broadcasts on 91.1 (earlier 91.0 in most cities) megahertz from Mumbai (where it was started in 2004), Bengaluru (started first in 2001), Lucknow and New Delhi (since 2003).',\n",
       "    ' It plays Hindi, English and regional songs.',\n",
       "    ' It was launched in Hyderabad in March 2006, in Chennai on 7 July 2006 and in Visakhapatnam October 2007.',\n",
       "    ' Radio City recently forayed into New Media in May 2008 with the launch of a music portal - PlanetRadiocity.com that offers music related news, videos, songs, and other music-related features.',\n",
       "    ' The Radio station currently plays a mix of Hindi and Regional music.',\n",
       "    ' Abraham Thomas is the CEO of the company.']],\n",
       "  ['History of Albanian football',\n",
       "   ['Football in Albania existed before the Albanian Football Federation (FSHF) was created.',\n",
       "    \" This was evidenced by the team's registration at the Balkan Cup tournament during 1929-1931, which started in 1929 (although Albania eventually had pressure from the teams because of competition, competition started first and was strong enough in the duels) .\",\n",
       "    ' Albanian National Team was founded on June 6, 1930, but Albania had to wait 16 years to play its first international match and then defeated Yugoslavia in 1946.',\n",
       "    ' In 1932, Albania joined FIFA (during the 12–16 June convention ) And in 1954 she was one of the founding members of UEFA.']],\n",
       "  ['Echosmith',\n",
       "   ['Echosmith is an American, Corporate indie pop band formed in February 2009 in Chino, California.',\n",
       "    ' Originally formed as a quartet of siblings, the band currently consists of Sydney, Noah and Graham Sierota, following the departure of eldest sibling Jamie in late 2016.',\n",
       "    ' Echosmith started first as \"Ready Set Go!\"',\n",
       "    ' until they signed to Warner Bros.',\n",
       "    ' Records in May 2012.',\n",
       "    ' They are best known for their hit song \"Cool Kids\", which reached number 13 on the \"Billboard\" Hot 100 and was certified double platinum by the RIAA with over 1,200,000 sales in the United States and also double platinum by ARIA in Australia.',\n",
       "    ' The song was Warner Bros.',\n",
       "    \" Records' fifth-biggest-selling-digital song of 2014, with 1.3 million downloads sold.\",\n",
       "    ' The band\\'s debut album, \"Talking Dreams\", was released on October 8, 2013.']],\n",
       "  [\"Women's colleges in the Southern United States\",\n",
       "   [\"Women's colleges in the Southern United States refers to undergraduate, bachelor's degree–granting institutions, often liberal arts colleges, whose student populations consist exclusively or almost exclusively of women, located in the Southern United States.\",\n",
       "    \" Many started first as girls' seminaries or academies.\",\n",
       "    ' Salem College is the oldest female educational institution in the South and Wesleyan College is the first that was established specifically as a college for women.',\n",
       "    ' Some schools, such as Mary Baldwin University and Salem College, offer coeducational courses at the graduate level.']],\n",
       "  ['First Arthur County Courthouse and Jail',\n",
       "   ['The First Arthur County Courthouse and Jail, was perhaps the smallest court house in the United States, and serves now as a museum.']],\n",
       "  [\"Arthur's Magazine\",\n",
       "   [\"Arthur's Magazine (1844–1846) was an American literary periodical published in Philadelphia in the 19th century.\",\n",
       "    ' Edited by T.S. Arthur, it featured work by Edgar A. Poe, J.H. Ingraham, Sarah Josepha Hale, Thomas G. Spear, and others.',\n",
       "    ' In May 1846 it was merged into \"Godey\\'s Lady\\'s Book\".']],\n",
       "  ['2014–15 Ukrainian Hockey Championship',\n",
       "   ['The 2014–15 Ukrainian Hockey Championship was the 23rd season of the Ukrainian Hockey Championship.',\n",
       "    ' Only four teams participated in the league this season, because of the instability in Ukraine and that most of the clubs had economical issues.',\n",
       "    ' Generals Kiev was the only team that participated in the league the previous season, and the season started first after the year-end of 2014.',\n",
       "    ' The regular season included just 12 rounds, where all the teams went to the semifinals.',\n",
       "    ' In the final, ATEK Kiev defeated the regular season winner HK Kremenchuk.']],\n",
       "  ['First for Women',\n",
       "   [\"First for Women is a woman's magazine published by Bauer Media Group in the USA.\",\n",
       "    ' The magazine was started in 1989.',\n",
       "    ' It is based in Englewood Cliffs, New Jersey.',\n",
       "    ' In 2011 the circulation of the magazine was 1,310,696 copies.']],\n",
       "  ['Freeway Complex Fire',\n",
       "   ['The Freeway Complex Fire was a 2008 wildfire in the Santa Ana Canyon area of Orange County, California.',\n",
       "    ' The fire started as two separate fires on November 15, 2008.',\n",
       "    ' The \"Freeway Fire\" started first shortly after 9am with the \"Landfill Fire\" igniting approximately 2 hours later.',\n",
       "    ' These two separate fires merged a day later and ultimately destroyed 314 residences in Anaheim Hills and Yorba Linda.']],\n",
       "  ['William Rast',\n",
       "   ['William Rast is an American clothing line founded by Justin Timberlake and Trace Ayala.',\n",
       "    ' It is most known for their premium jeans.',\n",
       "    ' On October 17, 2006, Justin Timberlake and Trace Ayala put on their first fashion show to launch their new William Rast clothing line.',\n",
       "    ' The label also produces other clothing items such as jackets and tops.',\n",
       "    ' The company started first as a denim line, later evolving into a men’s and women’s clothing line.']]],\n",
       " 'answer': \"Arthur's Magazine\",\n",
       " '_id': '5a7a06935542990198eaf050',\n",
       " 'type': 'comparison'}"
      ]
     },
     "execution_count": 7,
     "metadata": {},
     "output_type": "execute_result"
    }
   ],
   "source": [
    "# Example training object\n",
    "hotpot_orig[0]"
   ]
  },
  {
   "cell_type": "code",
   "execution_count": 8,
   "id": "59b1e4d8",
   "metadata": {},
   "outputs": [
    {
     "name": "stdout",
     "output_type": "stream",
     "text": [
      "0\n",
      "0\n"
     ]
    }
   ],
   "source": [
    "# Count number of questions for which the context is not available for the SUP sentences\n",
    "\n",
    "count_one, count_both, not_two = 0,0,0\n",
    "for h in hotpot_orig:\n",
    "    sup_set = set()\n",
    "    for sup in h['supporting_facts']:\n",
    "        sup_set.add(sup[0])\n",
    "    context_set = set()\n",
    "    for context in h['context']:\n",
    "        context_set.add(context[0])\n",
    "    if len(sup_set.intersection(context_set)) == 0:\n",
    "        print(h)\n",
    "        break\n",
    "        count_both += 1\n",
    "    if len(sup_set) <2:\n",
    "        not_two += 1\n",
    "print(count_both)\n",
    "print(not_two)"
   ]
  },
  {
   "cell_type": "code",
   "execution_count": 9,
   "id": "1daa5ce7",
   "metadata": {},
   "outputs": [
    {
     "data": {
      "text/plain": [
       "90447"
      ]
     },
     "execution_count": 9,
     "metadata": {},
     "output_type": "execute_result"
    }
   ],
   "source": [
    "# Check if the MDR-processed hotpot data is the same length\n",
    "len(hotpot_mdr)"
   ]
  },
  {
   "cell_type": "code",
   "execution_count": 10,
   "id": "455acaa8",
   "metadata": {
    "scrolled": false
   },
   "outputs": [
    {
     "data": {
      "text/plain": [
       "{'question': \"Which magazine was started first Arthur's Magazine or First for Women?\",\n",
       " 'answers': [\"Arthur's Magazine\"],\n",
       " 'type': 'comparison',\n",
       " 'pos_paras': [{'title': \"Arthur's Magazine\",\n",
       "   'text': 'Arthur\\'s Magazine (1844–1846) was an American literary periodical published in Philadelphia in the 19th century. Edited by T.S. Arthur, it featured work by Edgar A. Poe, J.H. Ingraham, Sarah Josepha Hale, Thomas G. Spear, and others. In May 1846 it was merged into \"Godey\\'s Lady\\'s Book\".'},\n",
       "  {'title': 'First for Women',\n",
       "   'text': \"First for Women is a woman's magazine published by Bauer Media Group in the USA. The magazine was started in 1989. It is based in Englewood Cliffs, New Jersey. In 2011 the circulation of the magazine was 1,310,696 copies.\"}],\n",
       " 'neg_paras': [{'title': 'Knowledge (magazine)',\n",
       "   'text': \"Knowledge: An Illustrated Magazine of Science was a British popular science magazine published from 1881 to 1918. Founded by astronomer Richard A. Proctor, the magazine started as a weekly periodical, becoming monthly in 1885. The magazine was known for its extensive correspondence columns. Proctor himself, the first editor, was a significant contributor, and many of his discoveries or theoretical deductions first appeared in the magazine. Proctor was sometimes assisted in editorial duties by Edward Clodd. After Proctor's death in 1888, Arthur Cowper Ranyard took over editorship, then Harry Forbes Witherby after Ranyard's death.\"},\n",
       "  {'title': 'Shape (magazine)',\n",
       "   'text': 'Shape is a monthly English language fitness magazine started by Weider Publications in 1981, founded by Christine MacIntyre (a pioneer in women\\'s free weight fitness) and became the number one women\\'s fitness magazine. At that time, Weider Enterprises consisted primarily of the bodybuilding magazine \"Muscle & Fitness\". Joe Weider and Christine MacIntyre had differing views of how to present \"Shape\", Weider endorsing a less journalistic and more commercial approach to articles, MacIntyre endorsing a more academic, doctor-based magazine. Weider also endorsed a sexier approach to editorial while MacIntyre endorsed a healthier look for women, eschewing sexiness in the models and the copy. MacIntyre largely won that battle, editing a magazine that required that every byline have an advanced medical degree, that cover models should look healthy rather than sexy, and that sexist language be avoided. Christine MacIntyre was the editor-in-chief until her death in 1988. Tara Kraft is the current editor-in-chief. \"Shape\" found a readership based on that formula.'},\n",
       "  {'title': 'Bandwidth Street Press',\n",
       "   'text': 'BandWidth Street Press Magazine (or in short simply BandWidth Magazine) is a free monthly tabloid-sized music and lifestyle magazine (street press) established in March 2009 and based in Kota Kinabalu, Sabah, Malaysia. It is distributed throughout Kota Kinabalu and surrounding districts. In August 2011, the magazine expanded its territory to the Federal Territory of Labuan. The magazine is released between the 3rd to the 5th day of each month. The magazine was founded in Kota Kinabalu in March 2009 by Arthur E. Lee (former editor and publisher). Arthur E. Lee said at the time that \"This magazine is a great opportunity and has a great potential to build a strong music media outlet that is supportive of the local music scene completely from the grass roots level.\"'},\n",
       "  {'title': 'Sylph (magazine)',\n",
       "   'text': 'Sylph (シルフ , Shirufu ) is a Japanese shōjo manga magazine published by ASCII Media Works (formerly MediaWorks) and is sold monthly. The magazine was originally published on December 9, 2006 as a special edition version of MediaWorks\\' now-defunct \"Dengeki Comic Gao!\" under the title \"Comic Sylph\" (コミックシルフ , Komikku Shirufu , normally written as \"comic SYLPH\") as a quarterly publication. On March 21, 2008, with the release of the sixth volume, the magazine was transferred over as a special edition version of ASCII Media Works\\' shōnen manga magazine \"Dengeki Daioh\". On May 22, 2008, the magazine became independent of \"Dengeki Daioh\" and was published as volume one of \"Sylph\" as the July 2008 issue as a bimonthly publication. On May 22, 2010, the magazine started to be published monthly. \"Sylph\" is one of the few magazines originally published by MediaWorks not under the \"Dengeki\" naming line, such as with \"Dengeki Daioh\", and \"Dengeki G\\'s Magazine\", the first of which being \"Active Japan\" in 1995 which has been discontinued since 1998.'},\n",
       "  {'title': \"Women's colleges in the Southern United States\",\n",
       "   'text': \"Women's colleges in the Southern United States refers to undergraduate, bachelor's degree–granting institutions, often liberal arts colleges, whose student populations consist exclusively or almost exclusively of women, located in the Southern United States. Many started first as girls' seminaries or academies. Salem College is the oldest female educational institution in the South and Wesleyan College is the first that was established specifically as a college for women. Some schools, such as Mary Baldwin University and Salem College, offer coeducational courses at the graduate level.\"},\n",
       "  {'title': 'Houston City Magazine',\n",
       "   'text': 'Houston City Magazine was launched in 1977 as \"In Houston City News Monthly\" and was published for 10 years. Founded by R. D. (Dave) Walker, publisher and editor, and aided by key team members Ali Khan, Curtis Lang, and Jan Vanschuyver Walker, the first issue of 116 pages was successfully launched with a 300,000 direct mail charter subscription offer that pulled a response rate of double the industry standard of 2%. The original name was chosen because a d/b/a had already been formed under the name Houston City Magazine by David Crossley and Tom Curtis (although they had not actually published a magazine by this title). A 51% interest in the magazine was purchased by \"Texas Parade\" in 1978, and upon the hiring of Crossley and Curtis it was subsequently re-titled \"Houston City Magazine.\" The magazine was purchased by Francois de Menil in 1979. In 1982 it was purchased by Southwest Media Corporation of Texas, owned by Ray Lee Hunt of Dallas. Southwest Media also owned \"D Magazine\" of Dallas, \"Texas Homes\" and \"Sport Magazine\". In 1987, during a major downturn in Houston\\'s economy, the magazine was sold to \"Texas Monthly,\" who then killed one of their two major competitors (the other being \"D Magazine\" in Dallas). The prints and negatives associated with articles published in \"Houston City Magazine\" from 1978 to 1986 are now part of the Briscoe Center for American History at the University of Texas in Austin.'},\n",
       "  {'title': 'William Rast',\n",
       "   'text': 'William Rast is an American clothing line founded by Justin Timberlake and Trace Ayala. It is most known for their premium jeans. On October 17, 2006, Justin Timberlake and Trace Ayala put on their first fashion show to launch their new William Rast clothing line. The label also produces other clothing items such as jackets and tops. The company started first as a denim line, later evolving into a men’s and women’s clothing line.'},\n",
       "  {'title': \"Dengeki G's Magazine\",\n",
       "   'text': 'Dengeki G\\'s Magazine (電撃G\\'s magazine ) is a Japanese magazine published by ASCII Media Works (formerly MediaWorks) and sold monthly on the thirtieth that primarily contains information on bishōjo games, but also includes an entire section on anime based on bishōjo games, and serializes manga and light novels based on such games. The \"G\\'s\" in the title stands for \"Gals\" and \"Games\". The magazine is known for hosting reader participation games whose outcome is directly influenced by the people who read the magazine; such games include \"Sister Princess\", and \"Strawberry Panic!\". \"Dengeki G\\'s Magazine\" first went on sale on December 26, 1992 with the February 1993 issue under the title \"Dengeki PC Engine\", which changed to the current title in 2002. A special edition spin-off version called \"Dengeki G\\'s Festival!\" is published in irregular intervals and each issue focuses on a specific bishōjo game. Four other special edition versions under the \"Festival!\" name are \"Dengeki G\\'s Festival! Comic\", \"Dengeki G\\'s Festival! Deluxe\", \"Dengeki G\\'s Festival! Anime\", and \"Dengeki Festival! Heaven\". \"Dengeki G\\'s Magazine\"\\'s sister magazine is \"Dengeki Girl\\'s Style\", which publishes information on otome games, targeted towards females.'},\n",
       "  {'title': 'First Arthur County Courthouse and Jail',\n",
       "   'text': 'The First Arthur County Courthouse and Jail, was perhaps the smallest court house in the United States, and serves now as a museum.'},\n",
       "  {'title': 'Magazine',\n",
       "   'text': 'A magazine is a publication, usually a periodical publication, which is printed or electronically published (sometimes referred to as an online magazine). Magazines are generally published on a regular schedule and contain a variety of content. They are generally financed by advertising, by a purchase price, by prepaid subscriptions, or a combination of the three. At its root, the word \"magazine\" refers to a collection or storage location. In the case of written publication, it is a collection of written articles. This explains why magazine publications share the word root with gunpowder magazines, artillery magazines, firearms magazines, and, in French, retail stores such as department stores.'},\n",
       "  {'title': 'Radio City (Indian radio station)',\n",
       "   'text': \"Radio City is India's first private FM radio station and was started on 3 July 2001. It broadcasts on 91.1 (earlier 91.0 in most cities) megahertz from Mumbai (where it was started in 2004), Bengaluru (started first in 2001), Lucknow and New Delhi (since 2003). It plays Hindi, English and regional songs. It was launched in Hyderabad in March 2006, in Chennai on 7 July 2006 and in Visakhapatnam October 2007. Radio City recently forayed into New Media in May 2008 with the launch of a music portal - PlanetRadiocity.com that offers music related news, videos, songs, and other music-related features. The Radio station currently plays a mix of Hindi and Regional music. Abraham Thomas is the CEO of the company.\"},\n",
       "  {'title': 'Popular Science',\n",
       "   'text': 'Popular Science (also known as PopSci) is an American bi-monthly magazine carrying popular science content, which refers to articles for the general reader on science and technology subjects. \"Popular Science\" has won over 58 awards, including the American Society of Magazine Editors awards for its journalistic excellence in both 2003 (for General Excellence) and 2004 (for Best Magazine Section). With roots beginning in 1872, \"Popular Science\" has been translated into over 30 languages and is distributed to at least 45 countries.'},\n",
       "  {'title': 'History of Albanian football',\n",
       "   'text': \"Football in Albania existed before the Albanian Football Federation (FSHF) was created. This was evidenced by the team's registration at the Balkan Cup tournament during 1929-1931, which started in 1929 (although Albania eventually had pressure from the teams because of competition, competition started first and was strong enough in the duels) . Albanian National Team was founded on June 6, 1930, but Albania had to wait 16 years to play its first international match and then defeated Yugoslavia in 1946. In 1932, Albania joined FIFA (during the 12–16 June convention ) And in 1954 she was one of the founding members of UEFA.\"},\n",
       "  {'title': 'Texas Monthly',\n",
       "   'text': 'Texas Monthly is a monthly American magazine headquartered in Downtown Austin, Texas. \"Texas Monthly\" was founded in 1973 by Michael R. Levy and has been published by Emmis Publishing, L.P. since 1998 and now owned by Genesis Park, LP. \"Texas Monthly\" chronicles life in contemporary Texas, writing on politics, the environment, industry, and education. The magazine also covers leisure topics such as music, art, dining, and travel. It is a member of the City and Regional Magazine Association (CRMA).'},\n",
       "  {'title': 'D Magazine',\n",
       "   'text': 'D Magazine is a monthly magazine covering Dallas-Fort Worth. It is headquartered in Downtown Dallas.'},\n",
       "  {'title': 'Dengeki Comic Gao!',\n",
       "   'text': 'Monthly Dengeki Comic Gao! (月刊電撃コミックガオ! , Gekkan Dengeki Komikku Gao! ) , also known as Dengeki Gao! as was a Japanese shōnen manga magazine that primarily contained manga and information about series featuring bishōjo characters. It was published from December 1992 to February 2008 by MediaWorks. The \"Gao\" in the magazine\\'s title is a childish form of the sound \"Grr\". Many manga serialized in \"Dengeki Comic Gao!\" were adapted from light novels published under MediaWorks\\' \"Dengeki Bunko\" label. The magazine was sold every month on the twenty-seventh.'},\n",
       "  {'title': 'Maharshi Parshuram College of Engineering',\n",
       "   'text': \"Vidya Prasarak Mandal's Maharshi Parshuram College of Engineering was started at Velneshwar in 2012. It started first-year engineering courses from academic year 2012-13.\"},\n",
       "  {'title': 'Dengeki Daioh',\n",
       "   'text': 'Monthly Comic Dengeki Daioh (月刊コミック電撃大王 , Gekkan Komikku Dengeki Daiō ) is a Japanese shōnen manga magazine published by ASCII Media Works (formerly MediaWorks) under the \"Dengeki\" brand. Many manga serialized in \"Dengeki Daioh\" were later published in \"tankōbon\" volumes under ASCII Media Works\\' Dengeki Comics imprint. The magazine is sold every month on the 27th. A yonkoma section of \"Dengeki Daioh\" called \"Dengeki Yonkoma Daioh\" (電撃4コマ大王 ) features various omake strips of the manga series published in it. The format is typically a normal drawing on the right side featuring one or sometimes more characters, and a vertical four panel strip on the left featuring characters from the associated series in super deformed form. Two special editions of the magazine called \"Dengeki Moeoh\" and \"Dengeki Daioh Genesis\" are sold bimonthly and quarterly, respectively.'},\n",
       "  {'title': 'Freeway Complex Fire',\n",
       "   'text': 'The Freeway Complex Fire was a 2008 wildfire in the Santa Ana Canyon area of Orange County, California. The fire started as two separate fires on November 15, 2008. The \"Freeway Fire\" started first shortly after 9am with the \"Landfill Fire\" igniting approximately 2 hours later. These two separate fires merged a day later and ultimately destroyed 314 residences in Anaheim Hills and Yorba Linda.'},\n",
       "  {'title': 'MediaWorks (publisher)',\n",
       "   'text': 'MediaWorks, Inc. (株式会社メディアワークス , Kabushiki-gaisha MediaWākusu ) was a Japanese publishing company in the Kadokawa Group known for their \"Dengeki\" (電撃 , meaning \"electric shock\") brand magazines and book labels. These included such well-known magazines as \"Dengeki Daioh\", and \"Dengeki G\\'s Magazine\", along with MediaWorks\\' main light novel publishing imprint Dengeki Bunko. The company was merged with ASCII on April 1, 2008, and became ASCII Media Works. They mainly catered to the Japanese male otaku crowd, covering such topics as anime, light novels, manga, plastic modelling, and visual novels. However, MediaWorks had published three magazines targeted towards females—\"Comic Sylph\", \"Dengeki Girl\\'s Style\", and \"Character Parfait\"—but each one was a special edition version of another magazine. MediaWorks ran yearly contests for original novel and manga submissions, such as the light novel Dengeki Novel Prize contest.'}],\n",
       " '_id': '5a7a06935542990198eaf050'}"
      ]
     },
     "execution_count": 10,
     "metadata": {},
     "output_type": "execute_result"
    }
   ],
   "source": [
    "# Example object in MDR hotpot\n",
    "hotpot_mdr[0]"
   ]
  },
  {
   "cell_type": "code",
   "execution_count": 11,
   "id": "3a4af42d",
   "metadata": {},
   "outputs": [],
   "source": [
    "def extract_sentences(sup_idx_list, context_list, doc_title=None, return_titles=False):\n",
    "    return_obj = []\n",
    "    return_obj_titles = []\n",
    "    sup = {}\n",
    "    for s in sup_idx_list:\n",
    "        if s[0] not in sup:\n",
    "            sup[s[0]] = []\n",
    "        sup[s[0]].append(s[1])\n",
    "    for c in context_list:\n",
    "        if c[0] not in sup:\n",
    "            continue\n",
    "        if doc_title is not None and c[0] != doc_title:\n",
    "            continue\n",
    "        for i in sup[c[0]]:\n",
    "            try:\n",
    "                return_obj.append(c[1][i])\n",
    "                if return_titles:\n",
    "                    return_obj_titles.append(c[0])\n",
    "            except:\n",
    "                print(\"IndexError: ignoring\")\n",
    "                print(c[0])\n",
    "                print(c[1])\n",
    "                print(sup[c[0]])\n",
    "    if return_titles:\n",
    "        return return_obj, return_obj_titles\n",
    "    return return_obj"
   ]
  },
  {
   "cell_type": "code",
   "execution_count": 37,
   "id": "51878c94",
   "metadata": {},
   "outputs": [
    {
     "name": "stdout",
     "output_type": "stream",
     "text": [
      "IndexError: ignoring\n",
      "Minoru Suzuki\n",
      "['Minoru Suzuki (鈴木 実 , Suzuki Minoru , ring name: 鈴木 みのる) (born June 17, 1968) is a Japanese professional wrestler and mixed martial artist who is currently working for New Japan Pro Wrestling (NJPW) as a freelancer.', ' He is the current NEVER Openweight Champion in his first reign.']\n",
      "[0, 1, 2]\n",
      "IndexError: ignoring\n",
      "Khady Sylla\n",
      "['Khady Sylla (Dakar, March 27, 1963 – Dakar, October 8, 2013) was a Senegalese writer of two novels, short work, and film.']\n",
      "[0, 2]\n",
      "IndexError: ignoring\n",
      "Harry Styles\n",
      "['Harry Edward Styles (born 1 February 1994) is an English singer, songwriter, and actor.', ' He made his debut as a singer with his band White Eskimo, who performed locally in Holmes Chapel, Cheshire.', ' Styles rose to stardom as a member of the boy band One Direction, formed in 2010 through the British music competition series \"The X Factor\".', ' One Direction has released five albums, performed four worldwide tours, and won several awards.']\n",
      "[0, 3, 4]\n",
      "IndexError: ignoring\n",
      "William T. Anderson\n",
      "['William T. Anderson (1840 – October 26, 1864)—known as \"Bloody Bill\" Anderson—was one of the deadliest and most brutal pro-Confederate guerrilla leaders in the American Civil War.', ' Anderson led a band that targeted Union loyalists and Federal soldiers in Missouri and Kansas.']\n",
      "[1, 2]\n",
      "IndexError: ignoring\n",
      "Savannah cat\n",
      "['The Savannah is a hybrid cat breed.', ' It is a cross between a serval and a domestic cat.']\n",
      "[0, 2]\n",
      "IndexError: ignoring\n",
      "Albany and Schenectady Railroad\n",
      "['The Mohawk & Hudson Railroad was the first railroad built in the State of New York and one of the first railroads in the United States.', ' It was so-named because it linked the Mohawk River at Schenectady with the Hudson River at Albany.', ' It was conceived as a means of allowing Erie Canal passengers to quickly bypass the circuitous Cohoes Falls via steam powered trains.']\n",
      "[1, 30]\n",
      "IndexError: ignoring\n",
      "Buprenorphine\n",
      "['Buprenorphine, sold under the brand name Subutex, among others, is an opioid used to treat opioid addiction, moderate acute pain and moderate chronic pain.', ' The combination buprenorphine/naloxone is also used for opioid addiction.']\n",
      "[0, 7]\n",
      "IndexError: ignoring\n",
      "Jan Hooks\n",
      "['Janet Vivian \"Jan\" Hooks (April 23, 1957 – October 9, 2014) was an American actress and comedian best known for her work on \"Saturday Night Live\", where she was a repertory player from 1986–91, and continued making cameo appearances until 1994.', ' Her subsequent work included a regular role on the final two seasons of \"Designing Women\", a recurring role on \"3rd Rock from the Sun\" and a number of other roles in film and television.']\n",
      "[0, 8]\n",
      "IndexError: ignoring\n",
      "Minister of Defence (India)\n",
      "['The Minister of Defence is the head of the Ministry of Defence of the Government of India.', ' They are often assisted by a Minister of State for Defence and less-commonly, the lower-ranked Deputy Minister of Defence.', ' The defence minister additionally serves as President of the Institute for Defence Studies and Analyses, and as Chancellor of the Defence Institute of Advanced Technology and of the National Defence University.']\n",
      "[0, 11]\n"
     ]
    }
   ],
   "source": [
    "output = []\n",
    "\n",
    "for i in range(len(hotpot_orig)):\n",
    "    orig_obj = hotpot_orig[i]\n",
    "    mdr_obj = hotpot_mdr[i]\n",
    "    q_obj = {\n",
    "        \"id\": orig_obj[\"_id\"],\n",
    "        \"original_idx\": i,\n",
    "        \"question\": orig_obj[\"question\"],\n",
    "        \"level\": orig_obj[\"level\"],\n",
    "        \"type\": orig_obj[\"type\"],\n",
    "        \"answers\": [],\n",
    "        \"titles\": [],\n",
    "        \"final_answer\": orig_obj[\"answer\"],\n",
    "    }\n",
    "    if orig_obj[\"type\"] == \"comparison\":\n",
    "        # Fetch all SUP sentences into \"answers\"\n",
    "        q_obj[\"answers\"], q_obj[\"titles\"] = extract_sentences(orig_obj[\"supporting_facts\"], \n",
    "                                                              orig_obj[\"context\"], \n",
    "                                                              return_titles=True)\n",
    "    else:\n",
    "        # Fetch only the first-hop SUP sentences into \"answers\"\n",
    "        for sup in orig_obj[\"supporting_facts\"]:\n",
    "            if sup[0] != mdr_obj[\"bridge\"]:  # sup[0] -> doc title\n",
    "                # Add intermediate answer sentences\n",
    "                q_obj[\"answers\"], q_obj[\"titles\"] = extract_sentences(orig_obj[\"supporting_facts\"], \n",
    "                                                                      orig_obj[\"context\"], \n",
    "                                                                      sup[0], \n",
    "                                                                      return_titles=True)\n",
    "                q_obj[\"final_title\"] = mdr_obj[\"bridge\"]\n",
    "                break\n",
    "    output.append(q_obj)"
   ]
  },
  {
   "cell_type": "code",
   "execution_count": 38,
   "id": "399c10dd",
   "metadata": {},
   "outputs": [
    {
     "data": {
      "text/plain": [
       "{'id': '5a879ab05542996e4f30887e',\n",
       " 'original_idx': 1,\n",
       " 'question': 'The Oberoi family is part of a hotel company that has a head office in what city?',\n",
       " 'level': 'medium',\n",
       " 'type': 'bridge',\n",
       " 'answers': ['The Oberoi family is an Indian family that is famous for its involvement in hotels, namely through The Oberoi Group.'],\n",
       " 'titles': ['Oberoi family'],\n",
       " 'final_answer': 'Delhi',\n",
       " 'final_title': 'The Oberoi Group'}"
      ]
     },
     "execution_count": 38,
     "metadata": {},
     "output_type": "execute_result"
    }
   ],
   "source": [
    "output[1]"
   ]
  },
  {
   "cell_type": "code",
   "execution_count": 50,
   "id": "7a0b1373",
   "metadata": {},
   "outputs": [],
   "source": [
    "# Store results to disk\n",
    "output_fp = f\"../multihop_dense_retrieval/data/hotpot/hotpot_{SPLIT}_firsthop.json\"\n",
    "with open(output_fp, 'w') as fp:\n",
    "    json.dump({\"data\": output}, fp, indent=4)"
   ]
  },
  {
   "cell_type": "code",
   "execution_count": 25,
   "id": "2b5d0254",
   "metadata": {},
   "outputs": [],
   "source": [
    "import numpy as np"
   ]
  },
  {
   "cell_type": "code",
   "execution_count": 41,
   "id": "7628bce2",
   "metadata": {},
   "outputs": [],
   "source": [
    "np.random.seed(17)\n",
    "shuffled_idxs = np.random.choice(len(output), len(output), replace=False)\n",
    "train_idxs, dev_idxs = shuffled_idxs[:int(0.9*len(output))], shuffled_idxs[int(0.9*len(output)):]"
   ]
  },
  {
   "cell_type": "code",
   "execution_count": 47,
   "id": "a7ec443a",
   "metadata": {},
   "outputs": [],
   "source": [
    "assert (len(train_idxs) + len(dev_idxs)) == len(output)"
   ]
  },
  {
   "cell_type": "code",
   "execution_count": 48,
   "id": "6dd8b693",
   "metadata": {},
   "outputs": [],
   "source": [
    "train_split = list(np.array(output)[train_idxs])\n",
    "dev_split = list(np.array(output)[dev_idxs])"
   ]
  },
  {
   "cell_type": "code",
   "execution_count": 49,
   "id": "55b22417",
   "metadata": {},
   "outputs": [
    {
     "data": {
      "text/plain": [
       "{'id': '5a88f50e55429946c8d6e8e2',\n",
       " 'original_idx': 26522,\n",
       " 'question': 'Claude Simon and Paul Valéry, are in which mutual industry?',\n",
       " 'level': 'easy',\n",
       " 'type': 'comparison',\n",
       " 'answers': [' Valéry was nominated for the Nobel Prize in Literature in 12 different years.',\n",
       "  'Claude Simon (] ; 10 October 1913 – 6 July 2005) was a French novelist and critic, and the 1985 Nobel Laureate in Literature.'],\n",
       " 'titles': ['Paul Valéry', 'Claude Simon'],\n",
       " 'final_answer': 'Literature'}"
      ]
     },
     "execution_count": 49,
     "metadata": {},
     "output_type": "execute_result"
    }
   ],
   "source": [
    "train_split[0]"
   ]
  },
  {
   "cell_type": "code",
   "execution_count": 51,
   "id": "ee5e005d",
   "metadata": {},
   "outputs": [
    {
     "data": {
      "text/plain": [
       "{'id': '5a7e06ed5542995f4f40239e',\n",
       " 'original_idx': 44534,\n",
       " 'question': 'Weer en Verkeer is a channel that provided weather forecasts from a town in what province?',\n",
       " 'level': 'medium',\n",
       " 'type': 'bridge',\n",
       " 'answers': [' The forecasts and traffic reports were provided by a major Dutch meteorological company Meteo Consult in Wageningen which also provides the weather forecasts for RTL 4.'],\n",
       " 'titles': ['Weer en Verkeer'],\n",
       " 'final_answer': 'Gelderland',\n",
       " 'final_title': 'Wageningen'}"
      ]
     },
     "execution_count": 51,
     "metadata": {},
     "output_type": "execute_result"
    }
   ],
   "source": [
    "dev_split[0]"
   ]
  },
  {
   "cell_type": "code",
   "execution_count": 52,
   "id": "323a0ff7",
   "metadata": {},
   "outputs": [],
   "source": [
    "# Store train split to disk\n",
    "output_fp = f\"../multihop_dense_retrieval/data/hotpot/hotpot_train_train_firsthop.json\"\n",
    "with open(output_fp, 'w') as fp:\n",
    "    json.dump({\"data\": train_split}, fp, indent=4)\n",
    "    \n",
    "# Store dev split to disk\n",
    "output_fp = f\"../multihop_dense_retrieval/data/hotpot/hotpot_train_dev_firsthop.json\"\n",
    "with open(output_fp, 'w') as fp:\n",
    "    json.dump({\"data\": dev_split}, fp, indent=4)"
   ]
  }
 ],
 "metadata": {
  "kernelspec": {
   "display_name": "Python 3 (ipykernel)",
   "language": "python",
   "name": "python3"
  },
  "language_info": {
   "codemirror_mode": {
    "name": "ipython",
    "version": 3
   },
   "file_extension": ".py",
   "mimetype": "text/x-python",
   "name": "python",
   "nbconvert_exporter": "python",
   "pygments_lexer": "ipython3",
   "version": "3.7.11"
  }
 },
 "nbformat": 4,
 "nbformat_minor": 5
}

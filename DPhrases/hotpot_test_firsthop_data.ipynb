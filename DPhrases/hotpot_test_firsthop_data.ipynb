{
 "cells": [
  {
   "cell_type": "code",
   "execution_count": 17,
   "id": "d856a479",
   "metadata": {},
   "outputs": [],
   "source": [
    "import json"
   ]
  },
  {
   "cell_type": "code",
   "execution_count": 18,
   "id": "b51da53d",
   "metadata": {},
   "outputs": [
    {
     "name": "stdout",
     "output_type": "stream",
     "text": [
      "dev_retrieval_b50_k50_sp.json  hotpot_test_fullwiki_v1.json\r\n",
      "dev_retrieval_top100_sp.json   hotpot_train_firsthop.json\r\n",
      "hotpot_dev_firsthop.json       hotpot_train_v1.1.json\r\n",
      "hotpot_dev_fullwiki_v1.json    hotpot_train_with_neg_v0.json\r\n",
      "hotpot_dev_with_neg_v0.json    train_retrieval_b100_k100_sp.json\r\n",
      "hotpot_qas_val.json\r\n"
     ]
    }
   ],
   "source": [
    "!ls ../multihop_dense_retrieval/data/hotpot"
   ]
  },
  {
   "cell_type": "code",
   "execution_count": 19,
   "id": "fe94a7a8",
   "metadata": {},
   "outputs": [],
   "source": [
    "SPLIT = \"test\""
   ]
  },
  {
   "cell_type": "code",
   "execution_count": 20,
   "id": "b55841dc",
   "metadata": {},
   "outputs": [],
   "source": [
    "fp_hotpot_original = '../multihop_dense_retrieval/data/hotpot/hotpot_test_fullwiki_v1.json'\n",
    "    \n",
    "with open(fp_hotpot_original, 'r') as handle:\n",
    "    hotpot_orig = json.load(handle)"
   ]
  },
  {
   "cell_type": "code",
   "execution_count": 21,
   "id": "e10855a6",
   "metadata": {},
   "outputs": [
    {
     "data": {
      "text/plain": [
       "7405"
      ]
     },
     "execution_count": 21,
     "metadata": {},
     "output_type": "execute_result"
    }
   ],
   "source": [
    "# Training data length\n",
    "len(hotpot_orig)"
   ]
  },
  {
   "cell_type": "code",
   "execution_count": 22,
   "id": "41dd2209",
   "metadata": {},
   "outputs": [
    {
     "data": {
      "text/plain": [
       "dict_keys(['_id', 'question', 'context'])"
      ]
     },
     "execution_count": 22,
     "metadata": {},
     "output_type": "execute_result"
    }
   ],
   "source": [
    "# Example training object\n",
    "hotpot_orig[0].keys()"
   ]
  },
  {
   "cell_type": "code",
   "execution_count": 23,
   "id": "1bbe7b00",
   "metadata": {},
   "outputs": [
    {
     "data": {
      "text/plain": [
       "{'_id': '5adf9ba1554299025d62a2db',\n",
       " 'question': \"What position on the Billboard Top 100 did Alison Moyet's late summer hit achieve?\",\n",
       " 'context': [['The Other Side of Love',\n",
       "   ['\"The Other Side of Love\" is a song by the British synthpop band Yazoo, released in 1982 as their third single.',\n",
       "    \" The single peaked at #13 on the UK Singles Chart, making it the band's least successful single and the only one of their four singles to miss the top 10.\",\n",
       "    ' The track was written by band members Vince Clarke and Alison Moyet, and was originally not included on either of the band\\'s albums (it was later added to a reissue of \"Upstairs at Eric\\'s\").',\n",
       "    \" It featured Stiff Records' all-girl band Sylvia and the Sapphires on backing vocals following a chance meeting on the B.A. Robertson show.\"]],\n",
       "  ['All Cried Out (Alison Moyet song)',\n",
       "   ['\"All Cried Out\" is a song by English singer-songwriter Alison Moyet.',\n",
       "    ' It was written by Moyet and producers Jolley & Swain for her debut studio album \"Alf\" (1984).',\n",
       "    \" Released as the album's second single in the autumn of 1984, the track peaked within the top ten on both the Irish and the UK Singles Chart, also reaching the top twenty in Switzerland.\"]],\n",
       "  ['The Vandals (UK band)',\n",
       "   ['The Vandals were a late 1970s English rock band from Basildon in South East Essex.',\n",
       "    \" Playing in the punk rock style, they are mainly notable for featuring vocalist Alison Moyet; 'Alf' as she was then known, who later found fame as one half of 1980s synthpop act Yazoo.\",\n",
       "    \" The other members were Robert Marlow, who during his tenure with the band was known as 'the guitarist with no name', two other female backing singers, Kim Forey and Sue Paget (Susan Ryder Paget), who also played bass at the band's later gigs, and Simon Kirk on drums, who was later replaced by John Dee, formerly of Southend band The Machines.\"]],\n",
       "  ['Yazoo (band)',\n",
       "   ['Yazoo (known as Yaz in North America for legal reasons involving Yazoo Records) were a British synthpop duo from Basildon, Essex, England, consisting of former Depeche Mode member Vince Clarke (keyboards) and Alison Moyet (vocals).',\n",
       "    ' Formed in late 1981 after Clarke responded to an advertisement Moyet placed in a UK music magazine, over the next 18 months the duo made two critically acclaimed albums, \"Upstairs at Eric\\'s\" and \"You and Me Both\", blending Clarke\\'s synthesizer melodies with Moyet\\'s blues- and soul-influenced vocals.',\n",
       "    ' Yazoo enjoyed worldwide success, particularly in their home country where three of their four singles reached the top three of the UK Singles Chart and both their albums made the top two of the albums chart.',\n",
       "    ' In North America they are best known for the song \"Situation\", originally only a B-side in the UK but which was a club and airplay hit in the US and Canada before being released as the band\\'s debut single in North America.']],\n",
       "  ['Nick Morris',\n",
       "   ['Nick Morris is a film maker who began writing and making amateur films at school, one of which was shown at the NFT.',\n",
       "    ' His professional career began in the 1980s with music videos for \"The Final Countdown\" by Europe, \"Kyrie\" by Mr. Mister and \"Everytime You Go Away\" by Paul Young.',\n",
       "    ' After making approximately 100 promos for artists such as Elton John, Celine Dion, Alison Moyet, Warrant, Terence Trent D\\'Arby, Stevie Wonder, Paul Carrack, Prefab Sprout, Kirsty MacColl, Go West, the Kane Gang, The Alarm, Status Quo, Toto, Natalie Cole, Nena, Scorpions and the number one charity single Ferry Aid, he moved into longer form projects including the Cirque du Soleil show \"Alegría\", which was nominated for a primetime Emmy, \"Jesus Christ Superstar\", which won an International Emmy, and AC/DC\\'s \"Stiff Upper Lip Live\" in Munich.',\n",
       "    ' He has also directed DVDs for comedians such as The Mighty Boosh, Mitchell and Webb and Bill Bailey.',\n",
       "    ' Other work includes numerous trailers and music clips for West End shows such as \"The Producers\", \"Spamalot\", \"Calendar Girls\", \"Guys and Dolls\", \"Edward Scissorhands\" and \"The Rocky Horror Show\".',\n",
       "    \" in 2009 he captured Spandau Ballet's triumphant homecoming concert at the O2 Arena in London and Jude Law's portrayal of Hamlet.\"]],\n",
       "  ['Only You (Yazoo song)',\n",
       "   ['\"Only You\" is a song written by English musician Vince Clarke.',\n",
       "    ' He wrote it while with Depeche Mode, but recorded it in 1982 after forming the duo Yazoo with Alison Moyet.',\n",
       "    \" It was released as Yazoo's first single on 15 March 1982 in the United Kingdom.\",\n",
       "    ' Upon its UK release, the single became an instant success, hitting number two on the UK Singles Chart.',\n",
       "    ' In the US, the song was released as their second single in November 1982 and charted at number sixty-seven on \"Billboard\" Hot 100.',\n",
       "    ' \"Only You\" also made the US Adult Contemporary chart at number thirty-eight.']],\n",
       "  ['Love Resurrection',\n",
       "   ['\"Love Resurrection\" is a pop song written by English singer-songwriter Alison Moyet and producers Jolley & Swain for Moyet\\'s debut studio album \"Alf\" (1984).',\n",
       "    \" Released as the album's first single in June 1984, it reached number 10 in the UK Singles Chart.\",\n",
       "    ' It was released in the US in summer 1985 following \"Invisible\" and reached number 82 on the \"Billboard\" Hot 100 that August.']],\n",
       "  ['In the Misty Moonlight',\n",
       "   ['\"In the Misty Moonlight\" is a song written by Cindy Walker.',\n",
       "    ' One of the first singers to record the song in 1964 was Jim Reeves: it is included on his posthumous album \"The Jim Reeves Way\".',\n",
       "    ' There also have been many other artists who have covered the song, but the most successful version was recorded by Dean Martin in 1964.',\n",
       "    ' It was released as a single in 1967 and went to number one on the Easy Listening chart and number forty-six on the \"Billboard\" Hot 100.',\n",
       "    \" The song was Martin's fifth and final number one on the Easy Listening chart.\",\n",
       "    ' On the other hand, Jerry Wallace had a #19 hit on Billboard Top 100 when his version was released in 1964, so as far as Billboard Top 100 charts, Wallace had the more successful version.',\n",
       "    \" Both Wallace and Martin's versions are high quality and well produced.\"]],\n",
       "  ['Jocelyn Alice',\n",
       "   ['Jocelyn Alice is a Canadian singer and songwriter.',\n",
       "    ' Formerly one half of Canadian indie soul pop duo jocelyn & lisa from Calgary, Alberta, Alice began performing as a solo artist in 2015.',\n",
       "    ' Her debut single, the 2015 summer hit ‘Jackpot’, was certified Gold in Canada in early August 2015 and reached the top 15 on multiple Canadian commercial radio charts including #11 Mediabase Hot AC, #12 Billboard AC, #12 Billboard All-Format Airplay, and #14 Billboard CHR/Top 40.',\n",
       "    ' Jackpot also reached #12 on the Shazam Canada Top 100 and #13 on the iTunes Canada Top 200 Pop Songs chart.']],\n",
       "  ['Weak in the Presence of Beauty (song)',\n",
       "   ['\"Weak in the Presence of Beauty\" is a song written by Michael Ward and Rob Clarke.',\n",
       "    ' It was first released by their band, the British group Floy Joy, in 1986.',\n",
       "    ' The song was later covered by singer Alison Moyet in 1987 and became a hit for her.']]]}"
      ]
     },
     "execution_count": 23,
     "metadata": {},
     "output_type": "execute_result"
    }
   ],
   "source": [
    "hotpot_orig[0]"
   ]
  },
  {
   "cell_type": "code",
   "execution_count": 24,
   "id": "3a4af42d",
   "metadata": {},
   "outputs": [],
   "source": [
    "def extract_sentences(sup_idx_list, context_list, doc_title=None):\n",
    "    return_obj = []\n",
    "    sup = {}\n",
    "    for s in sup_idx_list:\n",
    "        if s[0] not in sup:\n",
    "            sup[s[0]] = []\n",
    "        sup[s[0]].append(s[1])\n",
    "    for c in context_list:\n",
    "        if c[0] not in sup:\n",
    "            continue\n",
    "        if doc_title is not None and c[0] != doc_title:\n",
    "            continue\n",
    "        for i in sup[c[0]]:\n",
    "            try:\n",
    "                return_obj.append(c[1][i])\n",
    "            except:\n",
    "                print(\"IndexError: ignoring\")\n",
    "                print(c[0])\n",
    "                print(c[1])\n",
    "                print(sup[c[0]])\n",
    "    return return_obj"
   ]
  },
  {
   "cell_type": "code",
   "execution_count": 25,
   "id": "51878c94",
   "metadata": {},
   "outputs": [],
   "source": [
    "output = []\n",
    "\n",
    "for i in range(len(hotpot_orig)):\n",
    "    orig_obj = hotpot_orig[i]\n",
    "    q_obj = {\n",
    "        \"id\": orig_obj[\"_id\"],\n",
    "        \"question\": orig_obj[\"question\"],\n",
    "#         \"level\": \"\",\n",
    "#         \"type\": \"\",\n",
    "#         \"answers\": [],\n",
    "#         \"final_answer\": \"\",\n",
    "    }\n",
    "    output.append(q_obj)"
   ]
  },
  {
   "cell_type": "code",
   "execution_count": 26,
   "id": "399c10dd",
   "metadata": {},
   "outputs": [
    {
     "data": {
      "text/plain": [
       "{'id': '5abbc41955429931dba144fb',\n",
       " 'question': \"What political role was Nattrass critical of during Mbeki's faulty policy?\"}"
      ]
     },
     "execution_count": 26,
     "metadata": {},
     "output_type": "execute_result"
    }
   ],
   "source": [
    "output[19]"
   ]
  },
  {
   "cell_type": "code",
   "execution_count": 27,
   "id": "7a0b1373",
   "metadata": {},
   "outputs": [],
   "source": [
    "# Store results to disk\n",
    "\n",
    "output_fp = f\"../multihop_dense_retrieval/data/hotpot/hotpot_{SPLIT}_firsthop.json\"\n",
    "with open(output_fp, 'w') as fp:\n",
    "    json.dump({\"data\": output}, fp, indent=4)"
   ]
  },
  {
   "cell_type": "code",
   "execution_count": null,
   "id": "19ae8a4a",
   "metadata": {},
   "outputs": [],
   "source": []
  }
 ],
 "metadata": {
  "kernelspec": {
   "display_name": "Python 3 (ipykernel)",
   "language": "python",
   "name": "python3"
  },
  "language_info": {
   "codemirror_mode": {
    "name": "ipython",
    "version": 3
   },
   "file_extension": ".py",
   "mimetype": "text/x-python",
   "name": "python",
   "nbconvert_exporter": "python",
   "pygments_lexer": "ipython3",
   "version": "3.7.11"
  }
 },
 "nbformat": 4,
 "nbformat_minor": 5
}
